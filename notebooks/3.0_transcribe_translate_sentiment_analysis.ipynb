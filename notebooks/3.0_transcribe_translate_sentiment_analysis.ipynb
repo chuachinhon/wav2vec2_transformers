{
 "cells": [
  {
   "cell_type": "markdown",
   "metadata": {},
   "source": [
    "# CHAIN-LINKING NLP TASKS WITH WAV2VEC2 & TRANSFORMERS\n",
    "\n",
    "Take an audio clip in English, transcibe it then translate it into another language, and finally apply a layer of sentiment analysis on the speech or try to summarise it. For a human, getting all these tasks done could well take hours, if not a full working day.\n",
    "\n",
    "Even for folks familiar with NLP tools, you can't easily link up these disparate tasks until recently. But with [Hugging Face's implementation of Facebook's Wav2Vec2 model](https://huggingface.co/transformers/model_doc/wav2vec2.html) in transformers 4.3, \"chain linking\" NLP tasks directly from audio to text has become a reality - with caveats on the quality of the results.\n",
    "\n",
    "The output, be it the transcribed or translated text, still require a certain amount of clean up by a human user. But the amount of time saved is not inconsiderable, in my view. And with Hugging Face's pipeline API and other transformer models capable of supporting a growing range of NLP tasks, the possible combinations and permutations of audio-to-text tasks are pretty mind-boggling.\n",
    "\n",
    "This notebook demos a simple workflow to:\n",
    " - transcribe a longish English speech (~24 minutes)\n",
    " - translate it into Chinese\n",
    " - plot the 'sentiment structure' of the Engish speech.\n",
    "\n",
    "I decided to use Biden's [first prime time speech](https://www.youtube.com/watch?v=JYBatFW-BP4) on Mar 11/12 2021 (depending on which time zone you are in). The audio clip was split in 71 20-second clips.\n",
    "\n",
    "\n",
    "## RESULTS\n",
    "\n",
    "The output files are available via Dropbox for those who want to skip ahead to the results:\n",
    " - [English transcript](https://www.dropbox.com/s/mc8mcav2qol9tw1/biden.txt?dl=0)\n",
    " - [Chinese translated text](https://www.dropbox.com/s/vakol0xw76c2lqx/biden_chinese.txt?dl=0)\n",
    " - [Full CSV with transcript, translated text and sentiment labels/scores](https://www.dropbox.com/s/0t3uyi1vcu7ti3x/biden_prime_time.csv?dl=0)\n",
    "\n",
    "\n",
    "\n",
    "## REFERENCES\n",
    "\n",
    "- Documentation of [Hugging Face's implementation of Wav2Vec2](https://huggingface.co/transformers/model_doc/wav2vec2.html)\n",
    "\n",
    "- Hosted inference [API on Hugging Face](https://huggingface.co/facebook/wav2vec2-base-960h)\n",
    "\n",
    "- Paper on [wav2vec 2.0: A Framework for Self-Supervised Learning of Speech Representations](https://arxiv.org/abs/2006.11477)\n",
    "\n",
    "\n",
    "\n",
    "## REQUIREMENTS\n",
    "\n",
    "- [transformers](https://pypi.org/project/transformers/) >= 4.3\n",
    "- [librosa](https://pypi.org/project/librosa/)\n",
    "- if you want to use your own audio clips, make sure to downsample them to 16kHz as the Wav2Vec2 model used here was pretrained and fine-tuned on 16kHz sampled speech audio. I used [Audacity](https://www.audacityteam.org/) to split up the audio files in this repo.\n",
    "\n",
    "\n",
    "## MODELS\n",
    "\n",
    "- There are several versions of the Wav2Vec2 model on Hugging Face's model hub. Check them out [here](https://huggingface.co/models?search=wav2ve).\n",
    "\n",
    "- In this notebook, I'll be using the large [wav2vec2-large-960h-lv60-self](https://huggingface.co/facebook/wav2vec2-large-960h-lv60-self) model."
   ]
  },
  {
   "cell_type": "code",
   "execution_count": 1,
   "metadata": {
    "id": "b1dL-TWaiL2_"
   },
   "outputs": [],
   "source": [
    "import librosa\n",
    "import matplotlib as mpl\n",
    "import pandas as pd\n",
    "import plotly\n",
    "import plotly_express as px\n",
    "import plotly.graph_objects as go\n",
    "import numpy as np\n",
    "import re\n",
    "import torch\n",
    "\n",
    "from nltk.tokenize import sent_tokenize\n",
    "from transformers import (\n",
    "    Wav2Vec2ForCTC,\n",
    "    Wav2Vec2Tokenizer,\n",
    "    MarianMTModel,\n",
    "    MarianTokenizer,\n",
    "    pipeline,\n",
    ")\n",
    "\n",
    "mpl.rcParams[\"figure.dpi\"] = 300\n",
    "%matplotlib inline\n",
    "%config InlineBackend.figure_format ='retina'"
   ]
  },
  {
   "cell_type": "markdown",
   "metadata": {},
   "source": [
    "# 1. TRANSCRIBE\n",
    "\n",
    "More detailed notes on using Wav2Vec2 and my work-around can be found in notebooks 1 and 2. I'll skip over the details here.\n",
    "\n",
    "Biden's speech is about 24 minutes long, and broken into 71 clips of 20s each so as to keep the memory load manageable. Other issue is Wav2Vec2's inability to generate punctuation, so longer clips would be tricky for downstream tasks like summarization. But more on that later."
   ]
  },
  {
   "cell_type": "code",
   "execution_count": 2,
   "metadata": {
    "colab": {
     "base_uri": "https://localhost:8080/",
     "height": 262,
     "referenced_widgets": [
      "d5849567eb2f444f92d346010baab376",
      "1b08b532def440ee9ed382cda8b3d6a9",
      "b8f1e6b65fb6457689a38380ef8e3971",
      "899995c8d84b4ecabc4af8a1d6c5a63c",
      "171de67bb3df47a6bf53e426b99e83e6",
      "3cc122fc298548539c56d31e8a36efc7",
      "fdc8c8b1f4d4499c845e0b84e26a221c",
      "8ff4e632581e411881dcbb823632d0db",
      "47a71bdae1b84c088059a89d948fc2a1",
      "e0f96d53958a44a799b23d28a086792d",
      "ca4c06e0497249ef99c70eea9df06237",
      "1203ce67a85d460881632ae5a1bef4a4",
      "dab72f33e3b34ed6991d499c8bdb1a64",
      "d0f6ed5579b8463fac4fbeae6d425f26",
      "0f32fa45c85d475b97f3dfa6a722bb31",
      "17762dad2c1240a89bd18c2cf350ffa9",
      "0212d96bfe8843779e8cf1556c8e8e68",
      "369f9de9d0194077901785993f94da0a",
      "237a86acc5734bc28b1f6124c08bd674",
      "971e9df6ea74412cb8ff72629790430e",
      "af693529300c47edb85c5821aa36be17",
      "9530414e29bd431e99c778dfeb6b9de7",
      "65cf2df19bc349149c3b5bfc18420854",
      "f11eaf39f52442c5b60610568bb5addd",
      "93de18c013444b5cb439fad7738414a0",
      "983be32aa47b4842a6a046b2066f206e",
      "c6fd28077060421e80315aff91b59cad",
      "2840402337284d738790ceb997debe46",
      "94c18df348e94826ac5d9d0121c756d3",
      "5efa48163e2f4867857687d3e496a99a",
      "51df7dbd0ad44b11b56703d6a397aae3",
      "bba1dd1bf3bb4b51b9bf64d97d6b6e49",
      "1e282caee4bf42b18e14e0b4397b9c25",
      "ae81a356ed094462afa2f6374f832e7c",
      "a10ded5ad346414289d43b5ec464b582",
      "8ad411e8389e414ebbaf4e0867db0962",
      "5b1269c34dd64d0c87a5f4e47fc74faf",
      "c0bff73c99e542c18873d9ff3f67e36c",
      "10f16d90485843c8ad131155a1dae2f3",
      "8d0d472c395f457bb56f58dc525657b6"
     ]
    },
    "id": "_7_kYLbkiTBF",
    "outputId": "c76cb506-b306-48c2-cd94-04fddd2c8bce"
   },
   "outputs": [],
   "source": [
    "#load tokenizer and pre-trained model; there are several versions available\n",
    "\n",
    "tokenizer_transcribe = Wav2Vec2Tokenizer.from_pretrained(\"facebook/wav2vec2-large-960h-lv60-self\")\n",
    "model_transcribe = Wav2Vec2ForCTC.from_pretrained(\"facebook/wav2vec2-large-960h-lv60-self\")"
   ]
  },
  {
   "cell_type": "markdown",
   "metadata": {},
   "source": [
    "## 1.1 DEFINE FUNCTIONS TO TRANSCRIBE SHORT AUDIO CLIPS ONE AT A TIME\n",
    "\n",
    "The functions return a dataframe for ease of \"transfer\" to other NLP tasks.\n",
    "\n",
    "## NOTE:\n",
    "\n",
    "Make sure the numbering of your split audio files start at \"1\", and not \"01\", or \"001\"."
   ]
  },
  {
   "cell_type": "code",
   "execution_count": 3,
   "metadata": {
    "id": "084YJhhjlnfo"
   },
   "outputs": [],
   "source": [
    "def split(x, y):\n",
    "    speech = {}\n",
    "    input_values = {}\n",
    "    logits = {}\n",
    "    predicted_ids = {}\n",
    "    transcribe = {}\n",
    "    for i in range(x, y + 1):\n",
    "        speech[i], rate = librosa.load(\n",
    "            \"../audio/biden/biden-%d.flac\" % i, sr=16000\n",
    "        )\n",
    "        input_values[i] = tokenizer_transcribe(\n",
    "            speech[i], return_tensors=\"pt\"\n",
    "        ).input_values\n",
    "        logits[i] = model_transcribe(input_values[i]).logits\n",
    "        predicted_ids[i] = torch.argmax(logits[i], dim=-1)\n",
    "        transcribe[i] = tokenizer_transcribe.decode(predicted_ids[i][0])\n",
    "    return transcribe\n"
   ]
  },
  {
   "cell_type": "code",
   "execution_count": 4,
   "metadata": {},
   "outputs": [],
   "source": [
    "def transcript(num_clips):\n",
    "    trans = {}\n",
    "    for j in range(1, num_clips):\n",
    "        if num_clips - j > 0:\n",
    "            trans[j] = pd.DataFrame.from_dict(\n",
    "                split(j, j + 1), orient=\"index\"\n",
    "            ).rename(columns={0: \"Transcribed_Text\"})\n",
    "        else:\n",
    "            pass\n",
    "    return (\n",
    "        pd.concat(trans)\n",
    "        .drop_duplicates(subset=[\"Transcribed_Text\"])\n",
    "        .reset_index(drop=True)\n",
    "    )\n"
   ]
  },
  {
   "cell_type": "markdown",
   "metadata": {},
   "source": [
    "## 1.2 TRANSCRIBE SHORT CLIPS\n",
    "\n",
    "This took 23min and 46s on my late-2015 iMac. Should be considerably faster on Colab or newer machines.\n",
    "\n",
    "PS: You can choose not transcribe all the clips. But it's hard to tell beforehand what's in which clip."
   ]
  },
  {
   "cell_type": "code",
   "execution_count": 5,
   "metadata": {},
   "outputs": [
    {
     "name": "stdout",
     "output_type": "stream",
     "text": [
      "CPU times: user 1h 11min 48s, sys: 4min 49s, total: 1h 16min 37s\n",
      "Wall time: 23min 46s\n"
     ]
    }
   ],
   "source": [
    "%%time\n",
    "df = transcript(num_clips = 71)"
   ]
  },
  {
   "cell_type": "markdown",
   "metadata": {},
   "source": [
    "## 1.3 CHECK RESULTS"
   ]
  },
  {
   "cell_type": "code",
   "execution_count": 6,
   "metadata": {},
   "outputs": [
    {
     "data": {
      "text/plain": [
       "(71, 1)"
      ]
     },
     "execution_count": 6,
     "metadata": {},
     "output_type": "execute_result"
    }
   ],
   "source": [
    "#checking that all clips were transcribed\n",
    "df.shape"
   ]
  },
  {
   "cell_type": "code",
   "execution_count": 7,
   "metadata": {},
   "outputs": [
    {
     "data": {
      "text/html": [
       "<div>\n",
       "<style scoped>\n",
       "    .dataframe tbody tr th:only-of-type {\n",
       "        vertical-align: middle;\n",
       "    }\n",
       "\n",
       "    .dataframe tbody tr th {\n",
       "        vertical-align: top;\n",
       "    }\n",
       "\n",
       "    .dataframe thead th {\n",
       "        text-align: right;\n",
       "    }\n",
       "</style>\n",
       "<table border=\"1\" class=\"dataframe\">\n",
       "  <thead>\n",
       "    <tr style=\"text-align: right;\">\n",
       "      <th></th>\n",
       "      <th>Transcribed_Text</th>\n",
       "    </tr>\n",
       "  </thead>\n",
       "  <tbody>\n",
       "    <tr>\n",
       "      <th>66</th>\n",
       "      <td>WHAT WE ARE ABOUT TO GO THROUGH BUT NOW W'RE C...</td>\n",
       "    </tr>\n",
       "    <tr>\n",
       "      <th>67</th>\n",
       "      <td>FOR ALSO BOUND IN GETHER BY THE WHOPE AND THE ...</td>\n",
       "    </tr>\n",
       "    <tr>\n",
       "      <th>68</th>\n",
       "      <td>ONE AMERICA I BELIEVE WI CAN AND WE WILL WE'RE...</td>\n",
       "    </tr>\n",
       "    <tr>\n",
       "      <th>69</th>\n",
       "      <td>WILL COME OUT STRONGER WITH A RENEWED FAITH IN...</td>\n",
       "    </tr>\n",
       "    <tr>\n",
       "      <th>70</th>\n",
       "      <td>WE DOIT TOGETHER SO GOD BLESS YOU ALL PLEASE G...</td>\n",
       "    </tr>\n",
       "  </tbody>\n",
       "</table>\n",
       "</div>"
      ],
      "text/plain": [
       "                                     Transcribed_Text\n",
       "66  WHAT WE ARE ABOUT TO GO THROUGH BUT NOW W'RE C...\n",
       "67  FOR ALSO BOUND IN GETHER BY THE WHOPE AND THE ...\n",
       "68  ONE AMERICA I BELIEVE WI CAN AND WE WILL WE'RE...\n",
       "69  WILL COME OUT STRONGER WITH A RENEWED FAITH IN...\n",
       "70  WE DOIT TOGETHER SO GOD BLESS YOU ALL PLEASE G..."
      ]
     },
     "execution_count": 7,
     "metadata": {},
     "output_type": "execute_result"
    }
   ],
   "source": [
    "df.tail()"
   ]
  },
  {
   "cell_type": "code",
   "execution_count": 8,
   "metadata": {},
   "outputs": [],
   "source": [
    "# Output the transcript to a text file if you wish, or use it for other downstream NLP tasks.\n",
    "\n",
    "#biden = df[\"Transcribed_Text\"].apply(''.join)\n",
    "#biden.to_csv(\"../transcripts/biden.txt\", sep=\"\\t\", index=False)"
   ]
  },
  {
   "cell_type": "markdown",
   "metadata": {},
   "source": [
    "# 2. TRANSLATE TO CHINESE\n",
    "\n",
    "There are various ways to translate the transcribed text using transformer models, but in this case I'll use [Hugging Face's version of MarianMT](https://huggingface.co/transformers/model_doc/marian.html) to translate the speech into Chinese.\n",
    "\n",
    "See my earlier [notebooks](https://github.com/chuachinhon/practical_nlp/tree/master/notebooks) on using MarianMT on speeches of varying lengths."
   ]
  },
  {
   "cell_type": "code",
   "execution_count": 9,
   "metadata": {},
   "outputs": [],
   "source": [
    "tokenizer_translate = MarianTokenizer.from_pretrained(\"Helsinki-NLP/opus-mt-en-zh\")\n",
    "\n",
    "model_translate = MarianMTModel.from_pretrained(\"Helsinki-NLP/opus-mt-en-zh\")\n"
   ]
  },
  {
   "cell_type": "code",
   "execution_count": 10,
   "metadata": {},
   "outputs": [],
   "source": [
    "def clean_text(text):\n",
    "    text = text.encode(\"ascii\", errors=\"ignore\").decode(\n",
    "        \"ascii\"\n",
    "    )  # remove non-ascii, Chinese characters\n",
    "    text = text.lower()\n",
    "    text = re.sub(r\"\\n\", \" \", text)\n",
    "    text = text.strip(\" \")\n",
    "    text = re.sub(' +',' ', text).strip() # gets rid of multiple spaces and replace with a single\n",
    "    return text"
   ]
  },
  {
   "cell_type": "code",
   "execution_count": 11,
   "metadata": {},
   "outputs": [],
   "source": [
    "def translate(text):\n",
    "    if text is None or text == \"\":\n",
    "        return \"Error\",\n",
    "\n",
    "    #batch input + sentence tokenization\n",
    "    batch = tokenizer_translate.prepare_seq2seq_batch(sent_tokenize(text), return_tensors=\"pt\")\n",
    "\n",
    "    #run model\n",
    "    translated = model_translate.generate(**batch)\n",
    "    tgt_text = [tokenizer_translate.decode(t, skip_special_tokens=True) for t in translated]\n",
    "\n",
    "    return \" \".join(tgt_text)"
   ]
  },
  {
   "cell_type": "code",
   "execution_count": 12,
   "metadata": {},
   "outputs": [
    {
     "name": "stdout",
     "output_type": "stream",
     "text": [
      "CPU times: user 3min 47s, sys: 1.69 s, total: 3min 49s\n",
      "Wall time: 1min 1s\n"
     ]
    }
   ],
   "source": [
    "%%time\n",
    "df[\"Clean_Text\"] = df[\"Transcribed_Text\"].map(lambda text: clean_text(text))\n",
    "\n",
    "df[\"Machine_Translation\"] = df[\"Clean_Text\"].map(lambda x: translate(x)).copy()\n"
   ]
  },
  {
   "cell_type": "code",
   "execution_count": 13,
   "metadata": {},
   "outputs": [
    {
     "data": {
      "text/plain": [
       "array(['一年前的一年,被病毒击中,病毒遭到沉默,无声无声无声的传播,持续数日数星期,然后数月,无无声无息地传播了数日,导致更多的死亡人数增加,感染增加,压力增加,孤独照片和录像增加。',\n",
       "       '和朋友一起过最后的生日 和大家族的最后假日 而对每个人都不同 我们都失去了一件 集体受苦受难的东西',\n",
       "       '一年充满了生命的丧失 以及我们所有人的生命的丧失 但是在失去的一年中',\n",
       "       '事实上,美国要做的事情 可能是美国最 的事情,我们做的, 而这就是我们已经做的 我们见过的前线 和被派遣工人 冒着生命危险 冒着生命危险,有时失去他们 拯救和帮助其他人 研究人员和科学家赛车',\n",
       "       '你们当中这么多人 都认为这条路很坚固 我知道所有破碎的地方都很难熬',\n",
       "       '已经死亡的美国人数量 已经死亡的美国人数量 已经死亡的美国人数量',\n",
       "       '10次战争 一场战争 一场战争 两次战争 一场战争 一场战争 两次战争 一场战争 九十一次战争',\n",
       "       '连葬礼都无法真正悲伤或愈合 甚至可以举行葬礼 但我也想着去年失去 不幸的意外或其他疾病的自然原因的其他人 他们也孤独地死去 他们也抛弃了爱人',\n",
       "       '你知道,你经常听到我说 之前我谈论 最长的步行走来走去, 而你父母不能和 是一个短短的楼梯 飞到他孩子的卧室 说我很抱歉,但失去了我的工作 不能再在这里了',\n",
       "       '就像我爸爸告诉我的 当他失去了工作的时候 他不得不做 同样的步行式补你 你失去了工作 你关闭了繁忙的繁忙 面对震动 饥饿失去了控制',\n",
       "       '最糟糕的可能是失去希望 看着一代孩子 可能被放回 一年或更多 节食笔记的学校 因为失去学习 失去学习 这是生活的细节',\n",
       "       '婚礼生日毕业典礼上 需要发生的所有事情 都会在第一天',\n",
       "       '我们很多人的心理上都有一个可怕的 可怕的cas 在我们的心理上,因为我们是 从根本上来说,我们是人们 谁想成为无依无靠的人 与一个和Ande交谈 以相互拥抱,但这种暴力使我们和祖父母分离',\n",
       "       '从未见过他们的孩子或孙孙子 父母从未见过他们的孩子 从未见过他们的孩子 从未见过他们的朋友',\n",
       "       '我们彼此对对立 却把一个最容易拯救生命的面具 变成一个最容易的面具 有时它分裂了各州 彼此纠缠 而不是相互勾结 相互勾结',\n",
       "       '此时此刻,许多被责备和替罪羊 如此众多的美国人同胞 他们站在这一流行病的前线 试图拯救生命 仍然被迫生活在恐惧之中',\n",
       "       '这是错的,这是一个美国人 它必须停止看 看,我们必须停止看 我们知道我们需要做什么 做蜜蜂TIS病毒 告诉真相',\n",
       "       '相信我们的政府 来完成它最无情的功能 保护美国人民 没有更重要的功能 我们需要记住 政府不是外国军队 在遥远的首都',\n",
       "       '当我们把心放在心上时 美国就会兴旺起来 我们转手来炼油 而现在我的朋友们...',\n",
       "       '我当时在菲利亚德尔菲亚 我遇到了她的小商业荣誉 一个我问过她的女人 我说你最需要什么 永远不要忘记她对我说的话',\n",
       "       '想想我的美国同胞们 你欠的不亚于真相 而对于你们所有人 当事情回到正常的时候',\n",
       "       '使我们的经济重新回到我们的经济 是要战胜病毒 你听到我说 在过去五十天我竞选时 我曾经是总统 但这是最复杂的行动之一',\n",
       "       '作为美国总统,我拥有的每一个权力 都让我们处于战争地位 并且完成这个任务 听起来就像平庸的厚厚厚 但它是战争的厚厚 感谢上帝,我们正取得一些真正的进展',\n",
       "       '在两个月前,这个国家没有足够疫苗供应 来为美国公众接种所有疫苗 或近近近所有疫苗 但很快我们就会开始工作',\n",
       "       '与疫苗制造商Fiser mdurna Johnson和Johnson一起制造和采购这三种安全叶子疫苗的数以百万计的剂量,现在朝前走来,并得到我的行政部门Johnson和Johnson的协助。',\n",
       "       '昨天我宣布,我会见了两家公司的合伙人,我宣布了我们的计划。',\n",
       "       '购买另外一亿剂量的 Johnson和Johnson 吞噬这两家公司的竞争对手 为了他的国家的利益而聚集一堂 他们应该受到赞美 因为这是真正的国家努力 就像我们在战争中看到的一样',\n",
       "       '因为我们所做的所有工作 都会有足够的疫苗 供所有在美国的成年人使用',\n",
       "       '我们一直在创造更多地方 来拍摄我们让你们能够获得疫苗 以及近十分之一的疫苗',\n",
       "       '全国各地的一千家药店 就像你射中你的烟道一样 我们正与红州和蓝州 的省长和市长合作 建立和支持近六百个联邦支持者疫苗接种中心',\n",
       "       '你可以开车到一个Statim或一个大的公园线, 让你的镜头永远不会离开你的汽车, 开车回家不到一个小时 我们一直在向数百个社区保健中心 送上面包海, 遍布美国各地, 位于服务不足的地区。',\n",
       "       '我们非常遗憾, 我们将部署更多的机动车辆 和弹出计划来满足你 在那里你住的地方满足你 因此那些最没有能力获得疫苗的人 能够获得疫苗',\n",
       "       '美籍黑人拉蒂诺人和农村社区 这一切加起来我50天前才就职 只有8%的美国人 月经后 只有8%的美国人 超过65岁的人 第一次接种了疫苗',\n",
       "       '直到今天,这一数字为65%,只有14%的75至50天前75至55岁年龄的美洲人获得首次机会,在疾病中心的新指导下,这一数字远远超过70%。',\n",
       "       '每周一的Cd c 预防 每周一的c d d c 出来, 意思就是这几百万 和几百万祖父母的祖父母 几个月后 无法拥抱他们的孙子女',\n",
       "       '和你在工作的地方可以做什么 与你的朋友的礼拜场所 以及旅行 当我来到Tho办公室时 你还记得我说过',\n",
       "       '我上任前100天到晚头100天的就职头100天,我可以说,我们不会达到这个目标,我们将战胜那个目标, 因为实际上在追踪的前夕 达到这个目标,',\n",
       "       '我想谈谈接下来的一步......我宣布我会指示所有州 部落和领地......让所有18岁及18岁以上的成年人 有资格接种疫苗...',\n",
       "       '所有的美国成年人 都有资格 获得一个真空 时间不晚于可能一个更早的 棕色的预期 让我说清楚 这并不意味着每个人都会 立即得到那一枪',\n",
       "       '这样做,我们将会从一百万发子弹 每天我承诺 在12月之前,我宣誓 继续打破我们目前的速度 每天两百万发子弹',\n",
       "       '当每个成年人都有资格时,我们可以与我们的伙伴一起推出新的工具,使你更容易找到真空,并从哪里买到商店,包括一个新的网络ihte,帮助你先找到地方接种疫苗,再找到最靠近你的地方。',\n",
       "       '我再次感谢Sennifer 过敏者之家和我上个月宣布计划为教师和学校工作人员接种疫苗。',\n",
       "       '包括公共汽车司机在内,我们可以加快全国大规模努力,安全地重新开放学校,实现我的目标,即我同时指出,在我就职的最初一百天里,大约一亿张开开开通大部分学校的千亿张照片。',\n",
       "       '这将是我新任教育秘书 未来几周的头号优先事项 未来几周,四号马奎埃尔·卡多纳 将发布进一步指导',\n",
       "       '为了保证人们的安全 并且鼓励更多的人接种疫苗 最后第五种可能最重要的是 我保证我会尽我所能 我绝不会松懈 直到我们击退这场火灾 但我需要你',\n",
       "       '美国人,我需要你 我需要每个Ameria American 需要你 我需要的不是 我需要你 我需要你在轮到你的时候',\n",
       "       '如果我们做所有这一切, 重点是如果我们做 如果我们做我们的一部分 如果我们一起做,如果我们做 我们一起做,如果我们做的第四年 7月4日......有一个很好的机会 你的家人和朋友...',\n",
       "       '并不代表大事件 很多人在一起, 但它的意思是小团体 能够聚集在一起 过了这么漫长的一年,',\n",
       "       '我们开始纪念我们独立 不受这种病毒的感染......但是为了获得胜利......不能让我们的警卫把 这场战斗远离秩序的结束......因为我告诉女人他胖胖的...',\n",
       "       '科学家们已经表明 病毒传播的新变种 我们还有工作要做 来打入每个人的自信',\n",
       "       '所有三种疫苗的安全性和有效性 所以我要传达的信息是 听医生在世界上 最杰出和最信任的声音 他向我们保证疫苗是安全的 他们经过严格的科学审查 我知道',\n",
       "       '这是安全的副总统 Harrinas Harris Harris arris  ond 我知道他们是咖啡 所以我们才在摄影机前 公开拿到疫苗 所以全世界都能看到',\n",
       "       '和你的邻居 你最了解的人 谁得到的真空 我们需要每个人都得到 空放 我们需要每个人都需要 保持洗手的人 保持社会距离 并保持戴面罩',\n",
       "       '投入我们所投入的一切资源 扑灭这场大火 恢复正常取决于民族统一 国家统一',\n",
       "       '作为美国同胞,因为我们不 保持维吉拉特和条件的改变 然后我们可能不得不恢复限制 重新回到原地,好吗? 我们不想这样做 再次,我们已经取得了这么多的进展 我们已经取得了这么多的进展',\n",
       "       '就在我们在充满希望的春天和夏天从黑暗的冬天中 走出黑暗的冬天的时候, 春天和夏天的春天和夏天,我们不是一对一对一对一, 而不是一对一对一,我们在过去的一年中失去了如此多的家庭,',\n",
       "       '我们失去了公交车和梦想 我们花了多年建筑 我们浪费了时间 时间和彼此 孩子们失去了那么多时间 和朋友',\n",
       "       '你知道我们失去的还有一样东西 我们失去了对生或政府的信心 我们的民主可以给美国人民 带来真正的银行',\n",
       "       '我对外国领导人 和国内领导人说 向美国人民打赌 永远打不赢赌',\n",
       "       '记录时间是科学的真正奇迹 这是各国最非凡的成就之一 我们也刚刚看到 坚忍不拔的漫游者',\n",
       "       '在美国科学以及彼此之间的信仰 以及今天我在美国援救工厂的法律中 签署一部历史性立法',\n",
       "       '直接的营救检查费 直接440美元 也就是说典型的四口家庭 收入约11万元美元 如果有直接存款 就会得到5千6百美元存款的支票 如果有直接存款 或者在一张支票中',\n",
       "       '它提供食物和营养,让家庭留在家中,根据专家的统计,它将把国内儿童贫困率减少一半,并罚款它资助我刚才描述的战胜病毒和箱式箱式箱的所有步骤。',\n",
       "       '未来数周数月数以百万计的工作 我会和第一夫人一起旅行 副总统 内阁的第二位绅士成员',\n",
       "       '历经漫长的黑暗岁月后,如果我们大家尽我们的责任,这个国家的经济将很快接种疫苗,那么在今后的更美好的岁月中,又会如何有希望和光明呢?',\n",
       "       '我们的孩子会回到学校的 男人身上,我们的孩子会 回到学校......我们将有真理...',\n",
       "       '我们将要经历的,但现在却经历着共同的经历 把我们团结在一起 团结在一起的民族 我们团结在一起的民族',\n",
       "       '也因为被那些恶人所捆绑着 和我们面前的日子 我热切的祈祷',\n",
       "       '我相信一个美国人 我相信WE能够,我们将抓住这个时刻和历史 我相信我们拉紧绳索 我们面对并克服了这个国家历史上最黑暗的 最艰难和最黑暗的时期之一',\n",
       "       '将更加强大 以新的信念 将更加强大 将更加坚定 对自己重新承诺 对我们的社区 以及对我们的社区',\n",
       "       '愿上帝保佑你们 愿上帝保佑你们 愿上帝保佑你们 愿上帝保佑你们 愿上帝保佑你们 愿上帝保佑你们'], dtype=object)"
      ]
     },
     "execution_count": 13,
     "metadata": {},
     "output_type": "execute_result"
    }
   ],
   "source": [
    "df[\"Machine_Translation\"].values"
   ]
  },
  {
   "cell_type": "markdown",
   "metadata": {},
   "source": [
    "## NOTE:\n",
    "Results are pretty rough. Is it better to translate from scratch at all? Probably a good idea to clean up the transcribed text before launching into translation.\n",
    "\n",
    "But if you are in a big hurry to get the audio file into another language in text format, well, this is an option."
   ]
  },
  {
   "cell_type": "code",
   "execution_count": 14,
   "metadata": {},
   "outputs": [],
   "source": [
    "# Output the translated speech to a text file if you wish.\n",
    "\n",
    "#biden_translated = df[\"Machine_Translation\"].apply(''.join)\n",
    "#biden_translated.to_csv(\"../transcripts/biden_chinese.txt\", sep=\"\\t\", index=False)"
   ]
  },
  {
   "cell_type": "markdown",
   "metadata": {},
   "source": [
    "# 3. SENTIMENT ANALYSIS\n",
    "\n",
    "Hugging Face's pipeline has made it very easy to generate results for sentiment analysis, but that's just half the mission. Figuring out a good way to visualize the results for immediate and long term analysis can be just as challenging.\n",
    "\n",
    "I've been experimenting with these sentiment charts, using Plotly, to better understand the overall sentiment of a speech."
   ]
  },
  {
   "cell_type": "code",
   "execution_count": 16,
   "metadata": {},
   "outputs": [
    {
     "name": "stdout",
     "output_type": "stream",
     "text": [
      "CPU times: user 8.92 s, sys: 352 ms, total: 9.27 s\n",
      "Wall time: 12.9 s\n"
     ]
    }
   ],
   "source": [
    "%%time\n",
    "corpus = list(df['Clean_Text'].values)\n",
    "\n",
    "nlp_sentiment = pipeline(\n",
    "    \"sentiment-analysis\"\n",
    ")\n",
    "\n",
    "\n",
    "df[\"Sentiment\"] = nlp_sentiment(corpus)\n",
    "\n",
    "# The pipeline's sentiment analysis output consists of a label and a score\n",
    "# I prefer to extract them into separate columns\n",
    "\n",
    "df['Sentiment_Label'] = [x.get('label') for x in df['Sentiment']]\n",
    "\n",
    "df['Sentiment_Score'] = [x.get('score') for x in df['Sentiment']]"
   ]
  },
  {
   "cell_type": "code",
   "execution_count": 17,
   "metadata": {},
   "outputs": [
    {
     "data": {
      "text/plain": [
       "POSITIVE    37\n",
       "NEGATIVE    34\n",
       "Name: Sentiment_Label, dtype: int64"
      ]
     },
     "execution_count": 17,
     "metadata": {},
     "output_type": "execute_result"
    }
   ],
   "source": [
    "df['Sentiment_Label'].value_counts()"
   ]
  },
  {
   "cell_type": "markdown",
   "metadata": {},
   "source": [
    "## NOTE: \n",
    "\n",
    "Biden's speech seems rather even-handed. Not excessively positive or rah-rah, even though he could have chosen to do that."
   ]
  },
  {
   "cell_type": "markdown",
   "metadata": {},
   "source": [
    "## 3.1 PLOT SENTIMENT CHART"
   ]
  },
  {
   "cell_type": "code",
   "execution_count": 18,
   "metadata": {},
   "outputs": [],
   "source": [
    "# We won't need all the cols for the chart, so let's narrow down the selection\n",
    "\n",
    "cols = [\"Clean_Text\", \"Sentiment_Label\", \"Sentiment_Score\"]\n",
    "\n",
    "df_sentiment = df[cols].copy()"
   ]
  },
  {
   "cell_type": "code",
   "execution_count": 19,
   "metadata": {},
   "outputs": [],
   "source": [
    "# Tweaking the sentiment score column for visualisation\n",
    "# Absolute value of the score is unchanged, merely the direction so that\n",
    "# the resulting chart is clearer on a divergent axis\n",
    "\n",
    "df_sentiment[\"Sentiment_Score\"] = np.where(\n",
    "    df_sentiment[\"Sentiment_Label\"] == \"NEGATIVE\", -(df_sentiment[\"Sentiment_Score\"]), df_sentiment[\"Sentiment_Score\"]\n",
    ")"
   ]
  },
  {
   "cell_type": "code",
   "execution_count": 20,
   "metadata": {},
   "outputs": [
    {
     "data": {
      "text/html": [
       "<div>\n",
       "<style scoped>\n",
       "    .dataframe tbody tr th:only-of-type {\n",
       "        vertical-align: middle;\n",
       "    }\n",
       "\n",
       "    .dataframe tbody tr th {\n",
       "        vertical-align: top;\n",
       "    }\n",
       "\n",
       "    .dataframe thead th {\n",
       "        text-align: right;\n",
       "    }\n",
       "</style>\n",
       "<table border=\"1\" class=\"dataframe\">\n",
       "  <thead>\n",
       "    <tr style=\"text-align: right;\">\n",
       "      <th></th>\n",
       "      <th>Clean_Text</th>\n",
       "      <th>Sentiment_Label</th>\n",
       "      <th>Sentiment_Score</th>\n",
       "    </tr>\n",
       "  </thead>\n",
       "  <tbody>\n",
       "    <tr>\n",
       "      <th>0</th>\n",
       "      <td>a year ago were hit with a virus that was met ...</td>\n",
       "      <td>NEGATIVE</td>\n",
       "      <td>-0.995461</td>\n",
       "    </tr>\n",
       "    <tr>\n",
       "      <th>1</th>\n",
       "      <td>nineteen feel like they were taken in another ...</td>\n",
       "      <td>NEGATIVE</td>\n",
       "      <td>-0.986311</td>\n",
       "    </tr>\n",
       "    <tr>\n",
       "      <th>2</th>\n",
       "      <td>a year filled with the loss of life and the lo...</td>\n",
       "      <td>POSITIVE</td>\n",
       "      <td>0.965319</td>\n",
       "    </tr>\n",
       "    <tr>\n",
       "      <th>3</th>\n",
       "      <td>american thing to do in fact it may be the mos...</td>\n",
       "      <td>POSITIVE</td>\n",
       "      <td>0.991791</td>\n",
       "    </tr>\n",
       "    <tr>\n",
       "      <th>4</th>\n",
       "      <td>for a vaccine and so many of you ad heming way...</td>\n",
       "      <td>NEGATIVE</td>\n",
       "      <td>-0.967911</td>\n",
       "    </tr>\n",
       "  </tbody>\n",
       "</table>\n",
       "</div>"
      ],
      "text/plain": [
       "                                          Clean_Text Sentiment_Label  \\\n",
       "0  a year ago were hit with a virus that was met ...        NEGATIVE   \n",
       "1  nineteen feel like they were taken in another ...        NEGATIVE   \n",
       "2  a year filled with the loss of life and the lo...        POSITIVE   \n",
       "3  american thing to do in fact it may be the mos...        POSITIVE   \n",
       "4  for a vaccine and so many of you ad heming way...        NEGATIVE   \n",
       "\n",
       "   Sentiment_Score  \n",
       "0        -0.995461  \n",
       "1        -0.986311  \n",
       "2         0.965319  \n",
       "3         0.991791  \n",
       "4        -0.967911  "
      ]
     },
     "execution_count": 20,
     "metadata": {},
     "output_type": "execute_result"
    }
   ],
   "source": [
    "df_sentiment.head()"
   ]
  },
  {
   "cell_type": "code",
   "execution_count": 25,
   "metadata": {},
   "outputs": [
    {
     "data": {
      "application/vnd.plotly.v1+json": {
       "config": {
        "plotlyServerURL": "https://plot.ly"
       },
       "data": [
        {
         "colorscale": [
          [
           0,
           "rgb(103,0,31)"
          ],
          [
           0.1,
           "rgb(178,24,43)"
          ],
          [
           0.2,
           "rgb(214,96,77)"
          ],
          [
           0.3,
           "rgb(244,165,130)"
          ],
          [
           0.4,
           "rgb(253,219,199)"
          ],
          [
           0.5,
           "rgb(247,247,247)"
          ],
          [
           0.6,
           "rgb(209,229,240)"
          ],
          [
           0.7,
           "rgb(146,197,222)"
          ],
          [
           0.8,
           "rgb(67,147,195)"
          ],
          [
           0.9,
           "rgb(33,102,172)"
          ],
          [
           1,
           "rgb(5,48,97)"
          ]
         ],
         "type": "heatmap",
         "x": [
          0,
          1,
          2,
          3,
          4,
          5,
          6,
          7,
          8,
          9,
          10,
          11,
          12,
          13,
          14,
          15,
          16,
          17,
          18,
          19,
          20,
          21,
          22,
          23,
          24,
          25,
          26,
          27,
          28,
          29,
          30,
          31,
          32,
          33,
          34,
          35,
          36,
          37,
          38,
          39,
          40,
          41,
          42,
          43,
          44,
          45,
          46,
          47,
          48,
          49,
          50,
          51,
          52,
          53,
          54,
          55,
          56,
          57,
          58,
          59,
          60,
          61,
          62,
          63,
          64,
          65,
          66,
          67,
          68,
          69,
          70
         ],
         "y": [
          "NEGATIVE",
          "NEGATIVE",
          "POSITIVE",
          "POSITIVE",
          "NEGATIVE",
          "NEGATIVE",
          "POSITIVE",
          "NEGATIVE",
          "NEGATIVE",
          "NEGATIVE",
          "NEGATIVE",
          "POSITIVE",
          "POSITIVE",
          "POSITIVE",
          "NEGATIVE",
          "NEGATIVE",
          "NEGATIVE",
          "POSITIVE",
          "POSITIVE",
          "POSITIVE",
          "NEGATIVE",
          "POSITIVE",
          "POSITIVE",
          "POSITIVE",
          "POSITIVE",
          "POSITIVE",
          "POSITIVE",
          "NEGATIVE",
          "NEGATIVE",
          "POSITIVE",
          "NEGATIVE",
          "NEGATIVE",
          "NEGATIVE",
          "POSITIVE",
          "POSITIVE",
          "NEGATIVE",
          "NEGATIVE",
          "NEGATIVE",
          "POSITIVE",
          "NEGATIVE",
          "NEGATIVE",
          "POSITIVE",
          "POSITIVE",
          "POSITIVE",
          "POSITIVE",
          "NEGATIVE",
          "POSITIVE",
          "POSITIVE",
          "NEGATIVE",
          "NEGATIVE",
          "POSITIVE",
          "NEGATIVE",
          "NEGATIVE",
          "NEGATIVE",
          "NEGATIVE",
          "NEGATIVE",
          "NEGATIVE",
          "POSITIVE",
          "NEGATIVE",
          "POSITIVE",
          "POSITIVE",
          "NEGATIVE",
          "NEGATIVE",
          "POSITIVE",
          "POSITIVE",
          "POSITIVE",
          "POSITIVE",
          "POSITIVE",
          "POSITIVE",
          "POSITIVE",
          "POSITIVE"
         ],
         "z": [
          -0.9954614639282227,
          -0.986311137676239,
          0.9653192758560181,
          0.9917910695075989,
          -0.9679108262062073,
          -0.9977951645851135,
          0.9829514622688293,
          -0.8730954527854919,
          -0.9989959597587585,
          -0.9996827244758606,
          -0.9998104572296143,
          0.7629597783088684,
          0.9808773994445801,
          0.8352300524711609,
          -0.9824583530426025,
          -0.9945672154426575,
          -0.9993559718132019,
          0.793095588684082,
          0.999795138835907,
          0.9975108504295349,
          -0.993657648563385,
          0.8037104606628418,
          0.9980599284172058,
          0.946864902973175,
          0.7535455822944641,
          0.9890685677528381,
          0.9987545609474182,
          -0.9925675988197327,
          -0.9863078594207764,
          0.960751473903656,
          -0.9510402679443359,
          -0.8453198671340942,
          -0.9830841422080994,
          0.9906387329101562,
          0.670332133769989,
          -0.9853258728981018,
          -0.9950275421142578,
          -0.7665603756904602,
          0.9986475110054016,
          -0.9778182506561279,
          -0.9595384001731873,
          0.9851080179214478,
          0.992302417755127,
          0.9952014684677124,
          0.9974883198738098,
          -0.9940615296363831,
          0.997313380241394,
          0.9995761513710022,
          -0.9954551458358765,
          -0.9942113757133484,
          0.9984948039054871,
          -0.9749119281768799,
          -0.9904213547706604,
          -0.5907214283943176,
          -0.9957992434501648,
          -0.8894340395927429,
          -0.9983462691307068,
          0.9931305646896362,
          -0.9974204301834106,
          0.9998668432235718,
          0.999765932559967,
          -0.9141823649406433,
          -0.9905440211296082,
          0.9972477555274963,
          0.9718377590179443,
          0.5861517190933228,
          0.9971776604652405,
          0.9303025007247925,
          0.9795304536819458,
          0.9834340810775757,
          0.6913182735443115
         ]
        }
       ],
       "layout": {
        "autosize": false,
        "height": 600,
        "template": {
         "data": {
          "bar": [
           {
            "error_x": {
             "color": "#2a3f5f"
            },
            "error_y": {
             "color": "#2a3f5f"
            },
            "marker": {
             "line": {
              "color": "#E5ECF6",
              "width": 0.5
             }
            },
            "type": "bar"
           }
          ],
          "barpolar": [
           {
            "marker": {
             "line": {
              "color": "#E5ECF6",
              "width": 0.5
             }
            },
            "type": "barpolar"
           }
          ],
          "carpet": [
           {
            "aaxis": {
             "endlinecolor": "#2a3f5f",
             "gridcolor": "white",
             "linecolor": "white",
             "minorgridcolor": "white",
             "startlinecolor": "#2a3f5f"
            },
            "baxis": {
             "endlinecolor": "#2a3f5f",
             "gridcolor": "white",
             "linecolor": "white",
             "minorgridcolor": "white",
             "startlinecolor": "#2a3f5f"
            },
            "type": "carpet"
           }
          ],
          "choropleth": [
           {
            "colorbar": {
             "outlinewidth": 0,
             "ticks": ""
            },
            "type": "choropleth"
           }
          ],
          "contour": [
           {
            "colorbar": {
             "outlinewidth": 0,
             "ticks": ""
            },
            "colorscale": [
             [
              0,
              "#0d0887"
             ],
             [
              0.1111111111111111,
              "#46039f"
             ],
             [
              0.2222222222222222,
              "#7201a8"
             ],
             [
              0.3333333333333333,
              "#9c179e"
             ],
             [
              0.4444444444444444,
              "#bd3786"
             ],
             [
              0.5555555555555556,
              "#d8576b"
             ],
             [
              0.6666666666666666,
              "#ed7953"
             ],
             [
              0.7777777777777778,
              "#fb9f3a"
             ],
             [
              0.8888888888888888,
              "#fdca26"
             ],
             [
              1,
              "#f0f921"
             ]
            ],
            "type": "contour"
           }
          ],
          "contourcarpet": [
           {
            "colorbar": {
             "outlinewidth": 0,
             "ticks": ""
            },
            "type": "contourcarpet"
           }
          ],
          "heatmap": [
           {
            "colorbar": {
             "outlinewidth": 0,
             "ticks": ""
            },
            "colorscale": [
             [
              0,
              "#0d0887"
             ],
             [
              0.1111111111111111,
              "#46039f"
             ],
             [
              0.2222222222222222,
              "#7201a8"
             ],
             [
              0.3333333333333333,
              "#9c179e"
             ],
             [
              0.4444444444444444,
              "#bd3786"
             ],
             [
              0.5555555555555556,
              "#d8576b"
             ],
             [
              0.6666666666666666,
              "#ed7953"
             ],
             [
              0.7777777777777778,
              "#fb9f3a"
             ],
             [
              0.8888888888888888,
              "#fdca26"
             ],
             [
              1,
              "#f0f921"
             ]
            ],
            "type": "heatmap"
           }
          ],
          "heatmapgl": [
           {
            "colorbar": {
             "outlinewidth": 0,
             "ticks": ""
            },
            "colorscale": [
             [
              0,
              "#0d0887"
             ],
             [
              0.1111111111111111,
              "#46039f"
             ],
             [
              0.2222222222222222,
              "#7201a8"
             ],
             [
              0.3333333333333333,
              "#9c179e"
             ],
             [
              0.4444444444444444,
              "#bd3786"
             ],
             [
              0.5555555555555556,
              "#d8576b"
             ],
             [
              0.6666666666666666,
              "#ed7953"
             ],
             [
              0.7777777777777778,
              "#fb9f3a"
             ],
             [
              0.8888888888888888,
              "#fdca26"
             ],
             [
              1,
              "#f0f921"
             ]
            ],
            "type": "heatmapgl"
           }
          ],
          "histogram": [
           {
            "marker": {
             "colorbar": {
              "outlinewidth": 0,
              "ticks": ""
             }
            },
            "type": "histogram"
           }
          ],
          "histogram2d": [
           {
            "colorbar": {
             "outlinewidth": 0,
             "ticks": ""
            },
            "colorscale": [
             [
              0,
              "#0d0887"
             ],
             [
              0.1111111111111111,
              "#46039f"
             ],
             [
              0.2222222222222222,
              "#7201a8"
             ],
             [
              0.3333333333333333,
              "#9c179e"
             ],
             [
              0.4444444444444444,
              "#bd3786"
             ],
             [
              0.5555555555555556,
              "#d8576b"
             ],
             [
              0.6666666666666666,
              "#ed7953"
             ],
             [
              0.7777777777777778,
              "#fb9f3a"
             ],
             [
              0.8888888888888888,
              "#fdca26"
             ],
             [
              1,
              "#f0f921"
             ]
            ],
            "type": "histogram2d"
           }
          ],
          "histogram2dcontour": [
           {
            "colorbar": {
             "outlinewidth": 0,
             "ticks": ""
            },
            "colorscale": [
             [
              0,
              "#0d0887"
             ],
             [
              0.1111111111111111,
              "#46039f"
             ],
             [
              0.2222222222222222,
              "#7201a8"
             ],
             [
              0.3333333333333333,
              "#9c179e"
             ],
             [
              0.4444444444444444,
              "#bd3786"
             ],
             [
              0.5555555555555556,
              "#d8576b"
             ],
             [
              0.6666666666666666,
              "#ed7953"
             ],
             [
              0.7777777777777778,
              "#fb9f3a"
             ],
             [
              0.8888888888888888,
              "#fdca26"
             ],
             [
              1,
              "#f0f921"
             ]
            ],
            "type": "histogram2dcontour"
           }
          ],
          "mesh3d": [
           {
            "colorbar": {
             "outlinewidth": 0,
             "ticks": ""
            },
            "type": "mesh3d"
           }
          ],
          "parcoords": [
           {
            "line": {
             "colorbar": {
              "outlinewidth": 0,
              "ticks": ""
             }
            },
            "type": "parcoords"
           }
          ],
          "pie": [
           {
            "automargin": true,
            "type": "pie"
           }
          ],
          "scatter": [
           {
            "marker": {
             "colorbar": {
              "outlinewidth": 0,
              "ticks": ""
             }
            },
            "type": "scatter"
           }
          ],
          "scatter3d": [
           {
            "line": {
             "colorbar": {
              "outlinewidth": 0,
              "ticks": ""
             }
            },
            "marker": {
             "colorbar": {
              "outlinewidth": 0,
              "ticks": ""
             }
            },
            "type": "scatter3d"
           }
          ],
          "scattercarpet": [
           {
            "marker": {
             "colorbar": {
              "outlinewidth": 0,
              "ticks": ""
             }
            },
            "type": "scattercarpet"
           }
          ],
          "scattergeo": [
           {
            "marker": {
             "colorbar": {
              "outlinewidth": 0,
              "ticks": ""
             }
            },
            "type": "scattergeo"
           }
          ],
          "scattergl": [
           {
            "marker": {
             "colorbar": {
              "outlinewidth": 0,
              "ticks": ""
             }
            },
            "type": "scattergl"
           }
          ],
          "scattermapbox": [
           {
            "marker": {
             "colorbar": {
              "outlinewidth": 0,
              "ticks": ""
             }
            },
            "type": "scattermapbox"
           }
          ],
          "scatterpolar": [
           {
            "marker": {
             "colorbar": {
              "outlinewidth": 0,
              "ticks": ""
             }
            },
            "type": "scatterpolar"
           }
          ],
          "scatterpolargl": [
           {
            "marker": {
             "colorbar": {
              "outlinewidth": 0,
              "ticks": ""
             }
            },
            "type": "scatterpolargl"
           }
          ],
          "scatterternary": [
           {
            "marker": {
             "colorbar": {
              "outlinewidth": 0,
              "ticks": ""
             }
            },
            "type": "scatterternary"
           }
          ],
          "surface": [
           {
            "colorbar": {
             "outlinewidth": 0,
             "ticks": ""
            },
            "colorscale": [
             [
              0,
              "#0d0887"
             ],
             [
              0.1111111111111111,
              "#46039f"
             ],
             [
              0.2222222222222222,
              "#7201a8"
             ],
             [
              0.3333333333333333,
              "#9c179e"
             ],
             [
              0.4444444444444444,
              "#bd3786"
             ],
             [
              0.5555555555555556,
              "#d8576b"
             ],
             [
              0.6666666666666666,
              "#ed7953"
             ],
             [
              0.7777777777777778,
              "#fb9f3a"
             ],
             [
              0.8888888888888888,
              "#fdca26"
             ],
             [
              1,
              "#f0f921"
             ]
            ],
            "type": "surface"
           }
          ],
          "table": [
           {
            "cells": {
             "fill": {
              "color": "#EBF0F8"
             },
             "line": {
              "color": "white"
             }
            },
            "header": {
             "fill": {
              "color": "#C8D4E3"
             },
             "line": {
              "color": "white"
             }
            },
            "type": "table"
           }
          ]
         },
         "layout": {
          "annotationdefaults": {
           "arrowcolor": "#2a3f5f",
           "arrowhead": 0,
           "arrowwidth": 1
          },
          "coloraxis": {
           "colorbar": {
            "outlinewidth": 0,
            "ticks": ""
           }
          },
          "colorscale": {
           "diverging": [
            [
             0,
             "#8e0152"
            ],
            [
             0.1,
             "#c51b7d"
            ],
            [
             0.2,
             "#de77ae"
            ],
            [
             0.3,
             "#f1b6da"
            ],
            [
             0.4,
             "#fde0ef"
            ],
            [
             0.5,
             "#f7f7f7"
            ],
            [
             0.6,
             "#e6f5d0"
            ],
            [
             0.7,
             "#b8e186"
            ],
            [
             0.8,
             "#7fbc41"
            ],
            [
             0.9,
             "#4d9221"
            ],
            [
             1,
             "#276419"
            ]
           ],
           "sequential": [
            [
             0,
             "#0d0887"
            ],
            [
             0.1111111111111111,
             "#46039f"
            ],
            [
             0.2222222222222222,
             "#7201a8"
            ],
            [
             0.3333333333333333,
             "#9c179e"
            ],
            [
             0.4444444444444444,
             "#bd3786"
            ],
            [
             0.5555555555555556,
             "#d8576b"
            ],
            [
             0.6666666666666666,
             "#ed7953"
            ],
            [
             0.7777777777777778,
             "#fb9f3a"
            ],
            [
             0.8888888888888888,
             "#fdca26"
            ],
            [
             1,
             "#f0f921"
            ]
           ],
           "sequentialminus": [
            [
             0,
             "#0d0887"
            ],
            [
             0.1111111111111111,
             "#46039f"
            ],
            [
             0.2222222222222222,
             "#7201a8"
            ],
            [
             0.3333333333333333,
             "#9c179e"
            ],
            [
             0.4444444444444444,
             "#bd3786"
            ],
            [
             0.5555555555555556,
             "#d8576b"
            ],
            [
             0.6666666666666666,
             "#ed7953"
            ],
            [
             0.7777777777777778,
             "#fb9f3a"
            ],
            [
             0.8888888888888888,
             "#fdca26"
            ],
            [
             1,
             "#f0f921"
            ]
           ]
          },
          "colorway": [
           "#636efa",
           "#EF553B",
           "#00cc96",
           "#ab63fa",
           "#FFA15A",
           "#19d3f3",
           "#FF6692",
           "#B6E880",
           "#FF97FF",
           "#FECB52"
          ],
          "font": {
           "color": "#2a3f5f"
          },
          "geo": {
           "bgcolor": "white",
           "lakecolor": "white",
           "landcolor": "#E5ECF6",
           "showlakes": true,
           "showland": true,
           "subunitcolor": "white"
          },
          "hoverlabel": {
           "align": "left"
          },
          "hovermode": "closest",
          "mapbox": {
           "style": "light"
          },
          "paper_bgcolor": "white",
          "plot_bgcolor": "#E5ECF6",
          "polar": {
           "angularaxis": {
            "gridcolor": "white",
            "linecolor": "white",
            "ticks": ""
           },
           "bgcolor": "#E5ECF6",
           "radialaxis": {
            "gridcolor": "white",
            "linecolor": "white",
            "ticks": ""
           }
          },
          "scene": {
           "xaxis": {
            "backgroundcolor": "#E5ECF6",
            "gridcolor": "white",
            "gridwidth": 2,
            "linecolor": "white",
            "showbackground": true,
            "ticks": "",
            "zerolinecolor": "white"
           },
           "yaxis": {
            "backgroundcolor": "#E5ECF6",
            "gridcolor": "white",
            "gridwidth": 2,
            "linecolor": "white",
            "showbackground": true,
            "ticks": "",
            "zerolinecolor": "white"
           },
           "zaxis": {
            "backgroundcolor": "#E5ECF6",
            "gridcolor": "white",
            "gridwidth": 2,
            "linecolor": "white",
            "showbackground": true,
            "ticks": "",
            "zerolinecolor": "white"
           }
          },
          "shapedefaults": {
           "line": {
            "color": "#2a3f5f"
           }
          },
          "ternary": {
           "aaxis": {
            "gridcolor": "white",
            "linecolor": "white",
            "ticks": ""
           },
           "baxis": {
            "gridcolor": "white",
            "linecolor": "white",
            "ticks": ""
           },
           "bgcolor": "#E5ECF6",
           "caxis": {
            "gridcolor": "white",
            "linecolor": "white",
            "ticks": ""
           }
          },
          "title": {
           "x": 0.05
          },
          "xaxis": {
           "automargin": true,
           "gridcolor": "white",
           "linecolor": "white",
           "ticks": "",
           "title": {
            "standoff": 15
           },
           "zerolinecolor": "white",
           "zerolinewidth": 2
          },
          "yaxis": {
           "automargin": true,
           "gridcolor": "white",
           "linecolor": "white",
           "ticks": "",
           "title": {
            "standoff": 15
           },
           "zerolinecolor": "white",
           "zerolinewidth": 2
          }
         }
        },
        "title": {
         "text": "Sentiment Analysis of Biden's First Prime-Time Speech (2021)"
        },
        "width": 1200
       }
      },
      "text/html": [
       "<div>\n",
       "        \n",
       "        \n",
       "            <div id=\"587b1147-8b12-4cf9-b955-627d468ab083\" class=\"plotly-graph-div\" style=\"height:600px; width:1200px;\"></div>\n",
       "            <script type=\"text/javascript\">\n",
       "                require([\"plotly\"], function(Plotly) {\n",
       "                    window.PLOTLYENV=window.PLOTLYENV || {};\n",
       "                    \n",
       "                if (document.getElementById(\"587b1147-8b12-4cf9-b955-627d468ab083\")) {\n",
       "                    Plotly.newPlot(\n",
       "                        '587b1147-8b12-4cf9-b955-627d468ab083',\n",
       "                        [{\"colorscale\": [[0.0, \"rgb(103,0,31)\"], [0.1, \"rgb(178,24,43)\"], [0.2, \"rgb(214,96,77)\"], [0.3, \"rgb(244,165,130)\"], [0.4, \"rgb(253,219,199)\"], [0.5, \"rgb(247,247,247)\"], [0.6, \"rgb(209,229,240)\"], [0.7, \"rgb(146,197,222)\"], [0.8, \"rgb(67,147,195)\"], [0.9, \"rgb(33,102,172)\"], [1.0, \"rgb(5,48,97)\"]], \"type\": \"heatmap\", \"x\": [0, 1, 2, 3, 4, 5, 6, 7, 8, 9, 10, 11, 12, 13, 14, 15, 16, 17, 18, 19, 20, 21, 22, 23, 24, 25, 26, 27, 28, 29, 30, 31, 32, 33, 34, 35, 36, 37, 38, 39, 40, 41, 42, 43, 44, 45, 46, 47, 48, 49, 50, 51, 52, 53, 54, 55, 56, 57, 58, 59, 60, 61, 62, 63, 64, 65, 66, 67, 68, 69, 70], \"y\": [\"NEGATIVE\", \"NEGATIVE\", \"POSITIVE\", \"POSITIVE\", \"NEGATIVE\", \"NEGATIVE\", \"POSITIVE\", \"NEGATIVE\", \"NEGATIVE\", \"NEGATIVE\", \"NEGATIVE\", \"POSITIVE\", \"POSITIVE\", \"POSITIVE\", \"NEGATIVE\", \"NEGATIVE\", \"NEGATIVE\", \"POSITIVE\", \"POSITIVE\", \"POSITIVE\", \"NEGATIVE\", \"POSITIVE\", \"POSITIVE\", \"POSITIVE\", \"POSITIVE\", \"POSITIVE\", \"POSITIVE\", \"NEGATIVE\", \"NEGATIVE\", \"POSITIVE\", \"NEGATIVE\", \"NEGATIVE\", \"NEGATIVE\", \"POSITIVE\", \"POSITIVE\", \"NEGATIVE\", \"NEGATIVE\", \"NEGATIVE\", \"POSITIVE\", \"NEGATIVE\", \"NEGATIVE\", \"POSITIVE\", \"POSITIVE\", \"POSITIVE\", \"POSITIVE\", \"NEGATIVE\", \"POSITIVE\", \"POSITIVE\", \"NEGATIVE\", \"NEGATIVE\", \"POSITIVE\", \"NEGATIVE\", \"NEGATIVE\", \"NEGATIVE\", \"NEGATIVE\", \"NEGATIVE\", \"NEGATIVE\", \"POSITIVE\", \"NEGATIVE\", \"POSITIVE\", \"POSITIVE\", \"NEGATIVE\", \"NEGATIVE\", \"POSITIVE\", \"POSITIVE\", \"POSITIVE\", \"POSITIVE\", \"POSITIVE\", \"POSITIVE\", \"POSITIVE\", \"POSITIVE\"], \"z\": [-0.9954614639282227, -0.986311137676239, 0.9653192758560181, 0.9917910695075989, -0.9679108262062073, -0.9977951645851135, 0.9829514622688293, -0.8730954527854919, -0.9989959597587585, -0.9996827244758606, -0.9998104572296143, 0.7629597783088684, 0.9808773994445801, 0.8352300524711609, -0.9824583530426025, -0.9945672154426575, -0.9993559718132019, 0.793095588684082, 0.999795138835907, 0.9975108504295349, -0.993657648563385, 0.8037104606628418, 0.9980599284172058, 0.946864902973175, 0.7535455822944641, 0.9890685677528381, 0.9987545609474182, -0.9925675988197327, -0.9863078594207764, 0.960751473903656, -0.9510402679443359, -0.8453198671340942, -0.9830841422080994, 0.9906387329101562, 0.670332133769989, -0.9853258728981018, -0.9950275421142578, -0.7665603756904602, 0.9986475110054016, -0.9778182506561279, -0.9595384001731873, 0.9851080179214478, 0.992302417755127, 0.9952014684677124, 0.9974883198738098, -0.9940615296363831, 0.997313380241394, 0.9995761513710022, -0.9954551458358765, -0.9942113757133484, 0.9984948039054871, -0.9749119281768799, -0.9904213547706604, -0.5907214283943176, -0.9957992434501648, -0.8894340395927429, -0.9983462691307068, 0.9931305646896362, -0.9974204301834106, 0.9998668432235718, 0.999765932559967, -0.9141823649406433, -0.9905440211296082, 0.9972477555274963, 0.9718377590179443, 0.5861517190933228, 0.9971776604652405, 0.9303025007247925, 0.9795304536819458, 0.9834340810775757, 0.6913182735443115]}],\n",
       "                        {\"autosize\": false, \"height\": 600, \"template\": {\"data\": {\"bar\": [{\"error_x\": {\"color\": \"#2a3f5f\"}, \"error_y\": {\"color\": \"#2a3f5f\"}, \"marker\": {\"line\": {\"color\": \"#E5ECF6\", \"width\": 0.5}}, \"type\": \"bar\"}], \"barpolar\": [{\"marker\": {\"line\": {\"color\": \"#E5ECF6\", \"width\": 0.5}}, \"type\": \"barpolar\"}], \"carpet\": [{\"aaxis\": {\"endlinecolor\": \"#2a3f5f\", \"gridcolor\": \"white\", \"linecolor\": \"white\", \"minorgridcolor\": \"white\", \"startlinecolor\": \"#2a3f5f\"}, \"baxis\": {\"endlinecolor\": \"#2a3f5f\", \"gridcolor\": \"white\", \"linecolor\": \"white\", \"minorgridcolor\": \"white\", \"startlinecolor\": \"#2a3f5f\"}, \"type\": \"carpet\"}], \"choropleth\": [{\"colorbar\": {\"outlinewidth\": 0, \"ticks\": \"\"}, \"type\": \"choropleth\"}], \"contour\": [{\"colorbar\": {\"outlinewidth\": 0, \"ticks\": \"\"}, \"colorscale\": [[0.0, \"#0d0887\"], [0.1111111111111111, \"#46039f\"], [0.2222222222222222, \"#7201a8\"], [0.3333333333333333, \"#9c179e\"], [0.4444444444444444, \"#bd3786\"], [0.5555555555555556, \"#d8576b\"], [0.6666666666666666, \"#ed7953\"], [0.7777777777777778, \"#fb9f3a\"], [0.8888888888888888, \"#fdca26\"], [1.0, \"#f0f921\"]], \"type\": \"contour\"}], \"contourcarpet\": [{\"colorbar\": {\"outlinewidth\": 0, \"ticks\": \"\"}, \"type\": \"contourcarpet\"}], \"heatmap\": [{\"colorbar\": {\"outlinewidth\": 0, \"ticks\": \"\"}, \"colorscale\": [[0.0, \"#0d0887\"], [0.1111111111111111, \"#46039f\"], [0.2222222222222222, \"#7201a8\"], [0.3333333333333333, \"#9c179e\"], [0.4444444444444444, \"#bd3786\"], [0.5555555555555556, \"#d8576b\"], [0.6666666666666666, \"#ed7953\"], [0.7777777777777778, \"#fb9f3a\"], [0.8888888888888888, \"#fdca26\"], [1.0, \"#f0f921\"]], \"type\": \"heatmap\"}], \"heatmapgl\": [{\"colorbar\": {\"outlinewidth\": 0, \"ticks\": \"\"}, \"colorscale\": [[0.0, \"#0d0887\"], [0.1111111111111111, \"#46039f\"], [0.2222222222222222, \"#7201a8\"], [0.3333333333333333, \"#9c179e\"], [0.4444444444444444, \"#bd3786\"], [0.5555555555555556, \"#d8576b\"], [0.6666666666666666, \"#ed7953\"], [0.7777777777777778, \"#fb9f3a\"], [0.8888888888888888, \"#fdca26\"], [1.0, \"#f0f921\"]], \"type\": \"heatmapgl\"}], \"histogram\": [{\"marker\": {\"colorbar\": {\"outlinewidth\": 0, \"ticks\": \"\"}}, \"type\": \"histogram\"}], \"histogram2d\": [{\"colorbar\": {\"outlinewidth\": 0, \"ticks\": \"\"}, \"colorscale\": [[0.0, \"#0d0887\"], [0.1111111111111111, \"#46039f\"], [0.2222222222222222, \"#7201a8\"], [0.3333333333333333, \"#9c179e\"], [0.4444444444444444, \"#bd3786\"], [0.5555555555555556, \"#d8576b\"], [0.6666666666666666, \"#ed7953\"], [0.7777777777777778, \"#fb9f3a\"], [0.8888888888888888, \"#fdca26\"], [1.0, \"#f0f921\"]], \"type\": \"histogram2d\"}], \"histogram2dcontour\": [{\"colorbar\": {\"outlinewidth\": 0, \"ticks\": \"\"}, \"colorscale\": [[0.0, \"#0d0887\"], [0.1111111111111111, \"#46039f\"], [0.2222222222222222, \"#7201a8\"], [0.3333333333333333, \"#9c179e\"], [0.4444444444444444, \"#bd3786\"], [0.5555555555555556, \"#d8576b\"], [0.6666666666666666, \"#ed7953\"], [0.7777777777777778, \"#fb9f3a\"], [0.8888888888888888, \"#fdca26\"], [1.0, \"#f0f921\"]], \"type\": \"histogram2dcontour\"}], \"mesh3d\": [{\"colorbar\": {\"outlinewidth\": 0, \"ticks\": \"\"}, \"type\": \"mesh3d\"}], \"parcoords\": [{\"line\": {\"colorbar\": {\"outlinewidth\": 0, \"ticks\": \"\"}}, \"type\": \"parcoords\"}], \"pie\": [{\"automargin\": true, \"type\": \"pie\"}], \"scatter\": [{\"marker\": {\"colorbar\": {\"outlinewidth\": 0, \"ticks\": \"\"}}, \"type\": \"scatter\"}], \"scatter3d\": [{\"line\": {\"colorbar\": {\"outlinewidth\": 0, \"ticks\": \"\"}}, \"marker\": {\"colorbar\": {\"outlinewidth\": 0, \"ticks\": \"\"}}, \"type\": \"scatter3d\"}], \"scattercarpet\": [{\"marker\": {\"colorbar\": {\"outlinewidth\": 0, \"ticks\": \"\"}}, \"type\": \"scattercarpet\"}], \"scattergeo\": [{\"marker\": {\"colorbar\": {\"outlinewidth\": 0, \"ticks\": \"\"}}, \"type\": \"scattergeo\"}], \"scattergl\": [{\"marker\": {\"colorbar\": {\"outlinewidth\": 0, \"ticks\": \"\"}}, \"type\": \"scattergl\"}], \"scattermapbox\": [{\"marker\": {\"colorbar\": {\"outlinewidth\": 0, \"ticks\": \"\"}}, \"type\": \"scattermapbox\"}], \"scatterpolar\": [{\"marker\": {\"colorbar\": {\"outlinewidth\": 0, \"ticks\": \"\"}}, \"type\": \"scatterpolar\"}], \"scatterpolargl\": [{\"marker\": {\"colorbar\": {\"outlinewidth\": 0, \"ticks\": \"\"}}, \"type\": \"scatterpolargl\"}], \"scatterternary\": [{\"marker\": {\"colorbar\": {\"outlinewidth\": 0, \"ticks\": \"\"}}, \"type\": \"scatterternary\"}], \"surface\": [{\"colorbar\": {\"outlinewidth\": 0, \"ticks\": \"\"}, \"colorscale\": [[0.0, \"#0d0887\"], [0.1111111111111111, \"#46039f\"], [0.2222222222222222, \"#7201a8\"], [0.3333333333333333, \"#9c179e\"], [0.4444444444444444, \"#bd3786\"], [0.5555555555555556, \"#d8576b\"], [0.6666666666666666, \"#ed7953\"], [0.7777777777777778, \"#fb9f3a\"], [0.8888888888888888, \"#fdca26\"], [1.0, \"#f0f921\"]], \"type\": \"surface\"}], \"table\": [{\"cells\": {\"fill\": {\"color\": \"#EBF0F8\"}, \"line\": {\"color\": \"white\"}}, \"header\": {\"fill\": {\"color\": \"#C8D4E3\"}, \"line\": {\"color\": \"white\"}}, \"type\": \"table\"}]}, \"layout\": {\"annotationdefaults\": {\"arrowcolor\": \"#2a3f5f\", \"arrowhead\": 0, \"arrowwidth\": 1}, \"coloraxis\": {\"colorbar\": {\"outlinewidth\": 0, \"ticks\": \"\"}}, \"colorscale\": {\"diverging\": [[0, \"#8e0152\"], [0.1, \"#c51b7d\"], [0.2, \"#de77ae\"], [0.3, \"#f1b6da\"], [0.4, \"#fde0ef\"], [0.5, \"#f7f7f7\"], [0.6, \"#e6f5d0\"], [0.7, \"#b8e186\"], [0.8, \"#7fbc41\"], [0.9, \"#4d9221\"], [1, \"#276419\"]], \"sequential\": [[0.0, \"#0d0887\"], [0.1111111111111111, \"#46039f\"], [0.2222222222222222, \"#7201a8\"], [0.3333333333333333, \"#9c179e\"], [0.4444444444444444, \"#bd3786\"], [0.5555555555555556, \"#d8576b\"], [0.6666666666666666, \"#ed7953\"], [0.7777777777777778, \"#fb9f3a\"], [0.8888888888888888, \"#fdca26\"], [1.0, \"#f0f921\"]], \"sequentialminus\": [[0.0, \"#0d0887\"], [0.1111111111111111, \"#46039f\"], [0.2222222222222222, \"#7201a8\"], [0.3333333333333333, \"#9c179e\"], [0.4444444444444444, \"#bd3786\"], [0.5555555555555556, \"#d8576b\"], [0.6666666666666666, \"#ed7953\"], [0.7777777777777778, \"#fb9f3a\"], [0.8888888888888888, \"#fdca26\"], [1.0, \"#f0f921\"]]}, \"colorway\": [\"#636efa\", \"#EF553B\", \"#00cc96\", \"#ab63fa\", \"#FFA15A\", \"#19d3f3\", \"#FF6692\", \"#B6E880\", \"#FF97FF\", \"#FECB52\"], \"font\": {\"color\": \"#2a3f5f\"}, \"geo\": {\"bgcolor\": \"white\", \"lakecolor\": \"white\", \"landcolor\": \"#E5ECF6\", \"showlakes\": true, \"showland\": true, \"subunitcolor\": \"white\"}, \"hoverlabel\": {\"align\": \"left\"}, \"hovermode\": \"closest\", \"mapbox\": {\"style\": \"light\"}, \"paper_bgcolor\": \"white\", \"plot_bgcolor\": \"#E5ECF6\", \"polar\": {\"angularaxis\": {\"gridcolor\": \"white\", \"linecolor\": \"white\", \"ticks\": \"\"}, \"bgcolor\": \"#E5ECF6\", \"radialaxis\": {\"gridcolor\": \"white\", \"linecolor\": \"white\", \"ticks\": \"\"}}, \"scene\": {\"xaxis\": {\"backgroundcolor\": \"#E5ECF6\", \"gridcolor\": \"white\", \"gridwidth\": 2, \"linecolor\": \"white\", \"showbackground\": true, \"ticks\": \"\", \"zerolinecolor\": \"white\"}, \"yaxis\": {\"backgroundcolor\": \"#E5ECF6\", \"gridcolor\": \"white\", \"gridwidth\": 2, \"linecolor\": \"white\", \"showbackground\": true, \"ticks\": \"\", \"zerolinecolor\": \"white\"}, \"zaxis\": {\"backgroundcolor\": \"#E5ECF6\", \"gridcolor\": \"white\", \"gridwidth\": 2, \"linecolor\": \"white\", \"showbackground\": true, \"ticks\": \"\", \"zerolinecolor\": \"white\"}}, \"shapedefaults\": {\"line\": {\"color\": \"#2a3f5f\"}}, \"ternary\": {\"aaxis\": {\"gridcolor\": \"white\", \"linecolor\": \"white\", \"ticks\": \"\"}, \"baxis\": {\"gridcolor\": \"white\", \"linecolor\": \"white\", \"ticks\": \"\"}, \"bgcolor\": \"#E5ECF6\", \"caxis\": {\"gridcolor\": \"white\", \"linecolor\": \"white\", \"ticks\": \"\"}}, \"title\": {\"x\": 0.05}, \"xaxis\": {\"automargin\": true, \"gridcolor\": \"white\", \"linecolor\": \"white\", \"ticks\": \"\", \"title\": {\"standoff\": 15}, \"zerolinecolor\": \"white\", \"zerolinewidth\": 2}, \"yaxis\": {\"automargin\": true, \"gridcolor\": \"white\", \"linecolor\": \"white\", \"ticks\": \"\", \"title\": {\"standoff\": 15}, \"zerolinecolor\": \"white\", \"zerolinewidth\": 2}}}, \"title\": {\"text\": \"Sentiment Analysis of Biden's First Prime-Time Speech (2021)\"}, \"width\": 1200},\n",
       "                        {\"responsive\": true}\n",
       "                    ).then(function(){\n",
       "                            \n",
       "var gd = document.getElementById('587b1147-8b12-4cf9-b955-627d468ab083');\n",
       "var x = new MutationObserver(function (mutations, observer) {{\n",
       "        var display = window.getComputedStyle(gd).display;\n",
       "        if (!display || display === 'none') {{\n",
       "            console.log([gd, 'removed!']);\n",
       "            Plotly.purge(gd);\n",
       "            observer.disconnect();\n",
       "        }}\n",
       "}});\n",
       "\n",
       "// Listen for the removal of the full notebook cells\n",
       "var notebookContainer = gd.closest('#notebook-container');\n",
       "if (notebookContainer) {{\n",
       "    x.observe(notebookContainer, {childList: true});\n",
       "}}\n",
       "\n",
       "// Listen for the clearing of the current output cell\n",
       "var outputEl = gd.closest('.output');\n",
       "if (outputEl) {{\n",
       "    x.observe(outputEl, {childList: true});\n",
       "}}\n",
       "\n",
       "                        })\n",
       "                };\n",
       "                });\n",
       "            </script>\n",
       "        </div>"
      ]
     },
     "metadata": {},
     "output_type": "display_data"
    }
   ],
   "source": [
    "# I've experimented with various plots and settled on Plotly's Heatmap\n",
    "\n",
    "fig = go.Figure(\n",
    "    data=go.Heatmap(\n",
    "        z=df_sentiment[\"Sentiment_Score\"],\n",
    "        x=df_sentiment.index,\n",
    "        y=df_sentiment[\"Sentiment_Label\"],\n",
    "        colorscale=px.colors.sequential.RdBu,\n",
    "    )\n",
    ")\n",
    "\n",
    "fig.update_layout(\n",
    "    title=go.layout.Title(\n",
    "        text=\"Sentiment Analysis of Biden's First Prime-Time Speech (2021)\"\n",
    "    ),\n",
    "    autosize=False,\n",
    "    width=1200,\n",
    "    height=600,\n",
    ")\n",
    "\n",
    "#fig.update_layout(yaxis_autorange = \"reversed\")\n",
    "\n",
    "fig.show()"
   ]
  },
  {
   "cell_type": "code",
   "execution_count": 22,
   "metadata": {},
   "outputs": [],
   "source": [
    "cols_final = [\n",
    "    \"Transcribed_Text\",\n",
    "    \"Clean_Text\",\n",
    "    \"Machine_Translation\",\n",
    "    \"Sentiment_Label\",\n",
    "    \"Sentiment_Score\",\n",
    "]\n",
    "\n",
    "df_final = df[cols_final]\n"
   ]
  },
  {
   "cell_type": "markdown",
   "metadata": {},
   "source": [
    "# 4. FINAL OUTPUT\n",
    "\n",
    "Here's the final dataframe with the transcribed + translated text + sentiment labels/scores. Not entirely ready for prime time, but the possibilities are pretty exciting."
   ]
  },
  {
   "cell_type": "code",
   "execution_count": 26,
   "metadata": {},
   "outputs": [
    {
     "data": {
      "text/html": [
       "<div>\n",
       "<style scoped>\n",
       "    .dataframe tbody tr th:only-of-type {\n",
       "        vertical-align: middle;\n",
       "    }\n",
       "\n",
       "    .dataframe tbody tr th {\n",
       "        vertical-align: top;\n",
       "    }\n",
       "\n",
       "    .dataframe thead th {\n",
       "        text-align: right;\n",
       "    }\n",
       "</style>\n",
       "<table border=\"1\" class=\"dataframe\">\n",
       "  <thead>\n",
       "    <tr style=\"text-align: right;\">\n",
       "      <th></th>\n",
       "      <th>Transcribed_Text</th>\n",
       "      <th>Clean_Text</th>\n",
       "      <th>Machine_Translation</th>\n",
       "      <th>Sentiment_Label</th>\n",
       "      <th>Sentiment_Score</th>\n",
       "    </tr>\n",
       "  </thead>\n",
       "  <tbody>\n",
       "    <tr>\n",
       "      <th>0</th>\n",
       "      <td>A YEAR AGO WERE HIT WITH A VIRUS THAT WAS MET ...</td>\n",
       "      <td>a year ago were hit with a virus that was met ...</td>\n",
       "      <td>一年前的一年,被病毒击中,病毒遭到沉默,无声无声无声的传播,持续数日数星期,然后数月,无无声...</td>\n",
       "      <td>NEGATIVE</td>\n",
       "      <td>0.995461</td>\n",
       "    </tr>\n",
       "    <tr>\n",
       "      <th>1</th>\n",
       "      <td>NINETEEN FEEL LIKE THEY WERE TAKEN IN ANOTHER ...</td>\n",
       "      <td>nineteen feel like they were taken in another ...</td>\n",
       "      <td>和朋友一起过最后的生日 和大家族的最后假日 而对每个人都不同 我们都失去了一件 集体受苦受难的东西</td>\n",
       "      <td>NEGATIVE</td>\n",
       "      <td>0.986311</td>\n",
       "    </tr>\n",
       "    <tr>\n",
       "      <th>2</th>\n",
       "      <td>A YEAR FILLED WITH THE LOSS OF LIFE AND THE LO...</td>\n",
       "      <td>a year filled with the loss of life and the lo...</td>\n",
       "      <td>一年充满了生命的丧失 以及我们所有人的生命的丧失 但是在失去的一年中</td>\n",
       "      <td>POSITIVE</td>\n",
       "      <td>0.965319</td>\n",
       "    </tr>\n",
       "    <tr>\n",
       "      <th>3</th>\n",
       "      <td>AMERICAN THING TO DO IN FACT IT MAY BE THE MOS...</td>\n",
       "      <td>american thing to do in fact it may be the mos...</td>\n",
       "      <td>事实上,美国要做的事情 可能是美国最 的事情,我们做的, 而这就是我们已经做的 我们见过的前...</td>\n",
       "      <td>POSITIVE</td>\n",
       "      <td>0.991791</td>\n",
       "    </tr>\n",
       "    <tr>\n",
       "      <th>4</th>\n",
       "      <td>FOR A VACCINE AND SO MANY OF YOU AD HEMING WAY...</td>\n",
       "      <td>for a vaccine and so many of you ad heming way...</td>\n",
       "      <td>你们当中这么多人 都认为这条路很坚固 我知道所有破碎的地方都很难熬</td>\n",
       "      <td>NEGATIVE</td>\n",
       "      <td>0.967911</td>\n",
       "    </tr>\n",
       "    <tr>\n",
       "      <th>5</th>\n",
       "      <td>TIT THE NUMBER OF AMERICANS WHO HAVE DIED FOMD...</td>\n",
       "      <td>tit the number of americans who have died fomd...</td>\n",
       "      <td>已经死亡的美国人数量 已经死亡的美国人数量 已经死亡的美国人数量</td>\n",
       "      <td>NEGATIVE</td>\n",
       "      <td>0.997795</td>\n",
       "    </tr>\n",
       "    <tr>\n",
       "      <th>6</th>\n",
       "      <td>TEN WAR WAR ONE WAR WAR TWO VIA NA WAR AND NIN...</td>\n",
       "      <td>ten war war one war war two via na war and nin...</td>\n",
       "      <td>10次战争 一场战争 一场战争 两次战争 一场战争 一场战争 两次战争 一场战争 九十一次战争</td>\n",
       "      <td>POSITIVE</td>\n",
       "      <td>0.982951</td>\n",
       "    </tr>\n",
       "    <tr>\n",
       "      <th>7</th>\n",
       "      <td>UABLE TO TRULY GRIEVE OR HEAL EVEN TO HAVE A F...</td>\n",
       "      <td>uable to truly grieve or heal even to have a f...</td>\n",
       "      <td>连葬礼都无法真正悲伤或愈合 甚至可以举行葬礼 但我也想着去年失去 不幸的意外或其他疾病的自然...</td>\n",
       "      <td>NEGATIVE</td>\n",
       "      <td>0.873095</td>\n",
       "    </tr>\n",
       "    <tr>\n",
       "      <th>8</th>\n",
       "      <td>FO'RE HURTING BADLY YOU KNOW YOU'VE OFTEN HEAR...</td>\n",
       "      <td>fo're hurting badly you know you've often hear...</td>\n",
       "      <td>你知道,你经常听到我说 之前我谈论 最长的步行走来走去, 而你父母不能和 是一个短短的楼梯 ...</td>\n",
       "      <td>NEGATIVE</td>\n",
       "      <td>0.998996</td>\n",
       "    </tr>\n",
       "    <tr>\n",
       "      <th>9</th>\n",
       "      <td>LIKE MY DAD TOLD ME WHEN HE LOST THE JOB AN CR...</td>\n",
       "      <td>like my dad told me when he lost the job an cr...</td>\n",
       "      <td>就像我爸爸告诉我的 当他失去了工作的时候 他不得不做 同样的步行式补你 你失去了工作 你关闭...</td>\n",
       "      <td>NEGATIVE</td>\n",
       "      <td>0.999683</td>\n",
       "    </tr>\n",
       "  </tbody>\n",
       "</table>\n",
       "</div>"
      ],
      "text/plain": [
       "                                    Transcribed_Text  \\\n",
       "0  A YEAR AGO WERE HIT WITH A VIRUS THAT WAS MET ...   \n",
       "1  NINETEEN FEEL LIKE THEY WERE TAKEN IN ANOTHER ...   \n",
       "2  A YEAR FILLED WITH THE LOSS OF LIFE AND THE LO...   \n",
       "3  AMERICAN THING TO DO IN FACT IT MAY BE THE MOS...   \n",
       "4  FOR A VACCINE AND SO MANY OF YOU AD HEMING WAY...   \n",
       "5  TIT THE NUMBER OF AMERICANS WHO HAVE DIED FOMD...   \n",
       "6  TEN WAR WAR ONE WAR WAR TWO VIA NA WAR AND NIN...   \n",
       "7  UABLE TO TRULY GRIEVE OR HEAL EVEN TO HAVE A F...   \n",
       "8  FO'RE HURTING BADLY YOU KNOW YOU'VE OFTEN HEAR...   \n",
       "9  LIKE MY DAD TOLD ME WHEN HE LOST THE JOB AN CR...   \n",
       "\n",
       "                                          Clean_Text  \\\n",
       "0  a year ago were hit with a virus that was met ...   \n",
       "1  nineteen feel like they were taken in another ...   \n",
       "2  a year filled with the loss of life and the lo...   \n",
       "3  american thing to do in fact it may be the mos...   \n",
       "4  for a vaccine and so many of you ad heming way...   \n",
       "5  tit the number of americans who have died fomd...   \n",
       "6  ten war war one war war two via na war and nin...   \n",
       "7  uable to truly grieve or heal even to have a f...   \n",
       "8  fo're hurting badly you know you've often hear...   \n",
       "9  like my dad told me when he lost the job an cr...   \n",
       "\n",
       "                                 Machine_Translation Sentiment_Label  \\\n",
       "0  一年前的一年,被病毒击中,病毒遭到沉默,无声无声无声的传播,持续数日数星期,然后数月,无无声...        NEGATIVE   \n",
       "1  和朋友一起过最后的生日 和大家族的最后假日 而对每个人都不同 我们都失去了一件 集体受苦受难的东西        NEGATIVE   \n",
       "2                 一年充满了生命的丧失 以及我们所有人的生命的丧失 但是在失去的一年中        POSITIVE   \n",
       "3  事实上,美国要做的事情 可能是美国最 的事情,我们做的, 而这就是我们已经做的 我们见过的前...        POSITIVE   \n",
       "4                  你们当中这么多人 都认为这条路很坚固 我知道所有破碎的地方都很难熬        NEGATIVE   \n",
       "5                   已经死亡的美国人数量 已经死亡的美国人数量 已经死亡的美国人数量        NEGATIVE   \n",
       "6    10次战争 一场战争 一场战争 两次战争 一场战争 一场战争 两次战争 一场战争 九十一次战争        POSITIVE   \n",
       "7  连葬礼都无法真正悲伤或愈合 甚至可以举行葬礼 但我也想着去年失去 不幸的意外或其他疾病的自然...        NEGATIVE   \n",
       "8  你知道,你经常听到我说 之前我谈论 最长的步行走来走去, 而你父母不能和 是一个短短的楼梯 ...        NEGATIVE   \n",
       "9  就像我爸爸告诉我的 当他失去了工作的时候 他不得不做 同样的步行式补你 你失去了工作 你关闭...        NEGATIVE   \n",
       "\n",
       "   Sentiment_Score  \n",
       "0         0.995461  \n",
       "1         0.986311  \n",
       "2         0.965319  \n",
       "3         0.991791  \n",
       "4         0.967911  \n",
       "5         0.997795  \n",
       "6         0.982951  \n",
       "7         0.873095  \n",
       "8         0.998996  \n",
       "9         0.999683  "
      ]
     },
     "execution_count": 26,
     "metadata": {},
     "output_type": "execute_result"
    }
   ],
   "source": [
    "df_final.head(10)"
   ]
  },
  {
   "cell_type": "code",
   "execution_count": null,
   "metadata": {},
   "outputs": [],
   "source": [
    "# df_final.to_csv(\"../transcripts/biden_prime_time.csv\", index=False)"
   ]
  }
 ],
 "metadata": {
  "accelerator": "TPU",
  "colab": {
   "collapsed_sections": [],
   "machine_shape": "hm",
   "name": "2.0_wav2vec2_long_speech.ipynb",
   "provenance": []
  },
  "kernelspec": {
   "display_name": "Python 3",
   "language": "python",
   "name": "python3"
  },
  "language_info": {
   "codemirror_mode": {
    "name": "ipython",
    "version": 3
   },
   "file_extension": ".py",
   "mimetype": "text/x-python",
   "name": "python",
   "nbconvert_exporter": "python",
   "pygments_lexer": "ipython3",
   "version": "3.6.8"
  },
  "widgets": {
   "application/vnd.jupyter.widget-state+json": {
    "0212d96bfe8843779e8cf1556c8e8e68": {
     "model_module": "@jupyter-widgets/controls",
     "model_name": "HBoxModel",
     "state": {
      "_dom_classes": [],
      "_model_module": "@jupyter-widgets/controls",
      "_model_module_version": "1.5.0",
      "_model_name": "HBoxModel",
      "_view_count": null,
      "_view_module": "@jupyter-widgets/controls",
      "_view_module_version": "1.5.0",
      "_view_name": "HBoxView",
      "box_style": "",
      "children": [
       "IPY_MODEL_237a86acc5734bc28b1f6124c08bd674",
       "IPY_MODEL_971e9df6ea74412cb8ff72629790430e"
      ],
      "layout": "IPY_MODEL_369f9de9d0194077901785993f94da0a"
     }
    },
    "0f32fa45c85d475b97f3dfa6a722bb31": {
     "model_module": "@jupyter-widgets/controls",
     "model_name": "DescriptionStyleModel",
     "state": {
      "_model_module": "@jupyter-widgets/controls",
      "_model_module_version": "1.5.0",
      "_model_name": "DescriptionStyleModel",
      "_view_count": null,
      "_view_module": "@jupyter-widgets/base",
      "_view_module_version": "1.2.0",
      "_view_name": "StyleView",
      "description_width": ""
     }
    },
    "10f16d90485843c8ad131155a1dae2f3": {
     "model_module": "@jupyter-widgets/controls",
     "model_name": "DescriptionStyleModel",
     "state": {
      "_model_module": "@jupyter-widgets/controls",
      "_model_module_version": "1.5.0",
      "_model_name": "DescriptionStyleModel",
      "_view_count": null,
      "_view_module": "@jupyter-widgets/base",
      "_view_module_version": "1.2.0",
      "_view_name": "StyleView",
      "description_width": ""
     }
    },
    "1203ce67a85d460881632ae5a1bef4a4": {
     "model_module": "@jupyter-widgets/controls",
     "model_name": "HTMLModel",
     "state": {
      "_dom_classes": [],
      "_model_module": "@jupyter-widgets/controls",
      "_model_module_version": "1.5.0",
      "_model_name": "HTMLModel",
      "_view_count": null,
      "_view_module": "@jupyter-widgets/controls",
      "_view_module_version": "1.5.0",
      "_view_name": "HTMLView",
      "description": "",
      "description_tooltip": null,
      "layout": "IPY_MODEL_17762dad2c1240a89bd18c2cf350ffa9",
      "placeholder": "​",
      "style": "IPY_MODEL_0f32fa45c85d475b97f3dfa6a722bb31",
      "value": " 163/163 [00:06&lt;00:00, 24.0B/s]"
     }
    },
    "171de67bb3df47a6bf53e426b99e83e6": {
     "model_module": "@jupyter-widgets/controls",
     "model_name": "ProgressStyleModel",
     "state": {
      "_model_module": "@jupyter-widgets/controls",
      "_model_module_version": "1.5.0",
      "_model_name": "ProgressStyleModel",
      "_view_count": null,
      "_view_module": "@jupyter-widgets/base",
      "_view_module_version": "1.2.0",
      "_view_name": "StyleView",
      "bar_color": null,
      "description_width": "initial"
     }
    },
    "17762dad2c1240a89bd18c2cf350ffa9": {
     "model_module": "@jupyter-widgets/base",
     "model_name": "LayoutModel",
     "state": {
      "_model_module": "@jupyter-widgets/base",
      "_model_module_version": "1.2.0",
      "_model_name": "LayoutModel",
      "_view_count": null,
      "_view_module": "@jupyter-widgets/base",
      "_view_module_version": "1.2.0",
      "_view_name": "LayoutView",
      "align_content": null,
      "align_items": null,
      "align_self": null,
      "border": null,
      "bottom": null,
      "display": null,
      "flex": null,
      "flex_flow": null,
      "grid_area": null,
      "grid_auto_columns": null,
      "grid_auto_flow": null,
      "grid_auto_rows": null,
      "grid_column": null,
      "grid_gap": null,
      "grid_row": null,
      "grid_template_areas": null,
      "grid_template_columns": null,
      "grid_template_rows": null,
      "height": null,
      "justify_content": null,
      "justify_items": null,
      "left": null,
      "margin": null,
      "max_height": null,
      "max_width": null,
      "min_height": null,
      "min_width": null,
      "object_fit": null,
      "object_position": null,
      "order": null,
      "overflow": null,
      "overflow_x": null,
      "overflow_y": null,
      "padding": null,
      "right": null,
      "top": null,
      "visibility": null,
      "width": null
     }
    },
    "1b08b532def440ee9ed382cda8b3d6a9": {
     "model_module": "@jupyter-widgets/base",
     "model_name": "LayoutModel",
     "state": {
      "_model_module": "@jupyter-widgets/base",
      "_model_module_version": "1.2.0",
      "_model_name": "LayoutModel",
      "_view_count": null,
      "_view_module": "@jupyter-widgets/base",
      "_view_module_version": "1.2.0",
      "_view_name": "LayoutView",
      "align_content": null,
      "align_items": null,
      "align_self": null,
      "border": null,
      "bottom": null,
      "display": null,
      "flex": null,
      "flex_flow": null,
      "grid_area": null,
      "grid_auto_columns": null,
      "grid_auto_flow": null,
      "grid_auto_rows": null,
      "grid_column": null,
      "grid_gap": null,
      "grid_row": null,
      "grid_template_areas": null,
      "grid_template_columns": null,
      "grid_template_rows": null,
      "height": null,
      "justify_content": null,
      "justify_items": null,
      "left": null,
      "margin": null,
      "max_height": null,
      "max_width": null,
      "min_height": null,
      "min_width": null,
      "object_fit": null,
      "object_position": null,
      "order": null,
      "overflow": null,
      "overflow_x": null,
      "overflow_y": null,
      "padding": null,
      "right": null,
      "top": null,
      "visibility": null,
      "width": null
     }
    },
    "1e282caee4bf42b18e14e0b4397b9c25": {
     "model_module": "@jupyter-widgets/controls",
     "model_name": "HBoxModel",
     "state": {
      "_dom_classes": [],
      "_model_module": "@jupyter-widgets/controls",
      "_model_module_version": "1.5.0",
      "_model_name": "HBoxModel",
      "_view_count": null,
      "_view_module": "@jupyter-widgets/controls",
      "_view_module_version": "1.5.0",
      "_view_name": "HBoxView",
      "box_style": "",
      "children": [
       "IPY_MODEL_a10ded5ad346414289d43b5ec464b582",
       "IPY_MODEL_8ad411e8389e414ebbaf4e0867db0962"
      ],
      "layout": "IPY_MODEL_ae81a356ed094462afa2f6374f832e7c"
     }
    },
    "237a86acc5734bc28b1f6124c08bd674": {
     "model_module": "@jupyter-widgets/controls",
     "model_name": "FloatProgressModel",
     "state": {
      "_dom_classes": [],
      "_model_module": "@jupyter-widgets/controls",
      "_model_module_version": "1.5.0",
      "_model_name": "FloatProgressModel",
      "_view_count": null,
      "_view_module": "@jupyter-widgets/controls",
      "_view_module_version": "1.5.0",
      "_view_name": "ProgressView",
      "bar_style": "success",
      "description": "Downloading: 100%",
      "description_tooltip": null,
      "layout": "IPY_MODEL_9530414e29bd431e99c778dfeb6b9de7",
      "max": 85,
      "min": 0,
      "orientation": "horizontal",
      "style": "IPY_MODEL_af693529300c47edb85c5821aa36be17",
      "value": 85
     }
    },
    "2840402337284d738790ceb997debe46": {
     "model_module": "@jupyter-widgets/controls",
     "model_name": "HTMLModel",
     "state": {
      "_dom_classes": [],
      "_model_module": "@jupyter-widgets/controls",
      "_model_module_version": "1.5.0",
      "_model_name": "HTMLModel",
      "_view_count": null,
      "_view_module": "@jupyter-widgets/controls",
      "_view_module_version": "1.5.0",
      "_view_name": "HTMLView",
      "description": "",
      "description_tooltip": null,
      "layout": "IPY_MODEL_bba1dd1bf3bb4b51b9bf64d97d6b6e49",
      "placeholder": "​",
      "style": "IPY_MODEL_51df7dbd0ad44b11b56703d6a397aae3",
      "value": " 843/843 [00:00&lt;00:00, 3.76kB/s]"
     }
    },
    "369f9de9d0194077901785993f94da0a": {
     "model_module": "@jupyter-widgets/base",
     "model_name": "LayoutModel",
     "state": {
      "_model_module": "@jupyter-widgets/base",
      "_model_module_version": "1.2.0",
      "_model_name": "LayoutModel",
      "_view_count": null,
      "_view_module": "@jupyter-widgets/base",
      "_view_module_version": "1.2.0",
      "_view_name": "LayoutView",
      "align_content": null,
      "align_items": null,
      "align_self": null,
      "border": null,
      "bottom": null,
      "display": null,
      "flex": null,
      "flex_flow": null,
      "grid_area": null,
      "grid_auto_columns": null,
      "grid_auto_flow": null,
      "grid_auto_rows": null,
      "grid_column": null,
      "grid_gap": null,
      "grid_row": null,
      "grid_template_areas": null,
      "grid_template_columns": null,
      "grid_template_rows": null,
      "height": null,
      "justify_content": null,
      "justify_items": null,
      "left": null,
      "margin": null,
      "max_height": null,
      "max_width": null,
      "min_height": null,
      "min_width": null,
      "object_fit": null,
      "object_position": null,
      "order": null,
      "overflow": null,
      "overflow_x": null,
      "overflow_y": null,
      "padding": null,
      "right": null,
      "top": null,
      "visibility": null,
      "width": null
     }
    },
    "3cc122fc298548539c56d31e8a36efc7": {
     "model_module": "@jupyter-widgets/base",
     "model_name": "LayoutModel",
     "state": {
      "_model_module": "@jupyter-widgets/base",
      "_model_module_version": "1.2.0",
      "_model_name": "LayoutModel",
      "_view_count": null,
      "_view_module": "@jupyter-widgets/base",
      "_view_module_version": "1.2.0",
      "_view_name": "LayoutView",
      "align_content": null,
      "align_items": null,
      "align_self": null,
      "border": null,
      "bottom": null,
      "display": null,
      "flex": null,
      "flex_flow": null,
      "grid_area": null,
      "grid_auto_columns": null,
      "grid_auto_flow": null,
      "grid_auto_rows": null,
      "grid_column": null,
      "grid_gap": null,
      "grid_row": null,
      "grid_template_areas": null,
      "grid_template_columns": null,
      "grid_template_rows": null,
      "height": null,
      "justify_content": null,
      "justify_items": null,
      "left": null,
      "margin": null,
      "max_height": null,
      "max_width": null,
      "min_height": null,
      "min_width": null,
      "object_fit": null,
      "object_position": null,
      "order": null,
      "overflow": null,
      "overflow_x": null,
      "overflow_y": null,
      "padding": null,
      "right": null,
      "top": null,
      "visibility": null,
      "width": null
     }
    },
    "47a71bdae1b84c088059a89d948fc2a1": {
     "model_module": "@jupyter-widgets/controls",
     "model_name": "HBoxModel",
     "state": {
      "_dom_classes": [],
      "_model_module": "@jupyter-widgets/controls",
      "_model_module_version": "1.5.0",
      "_model_name": "HBoxModel",
      "_view_count": null,
      "_view_module": "@jupyter-widgets/controls",
      "_view_module_version": "1.5.0",
      "_view_name": "HBoxView",
      "box_style": "",
      "children": [
       "IPY_MODEL_ca4c06e0497249ef99c70eea9df06237",
       "IPY_MODEL_1203ce67a85d460881632ae5a1bef4a4"
      ],
      "layout": "IPY_MODEL_e0f96d53958a44a799b23d28a086792d"
     }
    },
    "51df7dbd0ad44b11b56703d6a397aae3": {
     "model_module": "@jupyter-widgets/controls",
     "model_name": "DescriptionStyleModel",
     "state": {
      "_model_module": "@jupyter-widgets/controls",
      "_model_module_version": "1.5.0",
      "_model_name": "DescriptionStyleModel",
      "_view_count": null,
      "_view_module": "@jupyter-widgets/base",
      "_view_module_version": "1.2.0",
      "_view_name": "StyleView",
      "description_width": ""
     }
    },
    "5b1269c34dd64d0c87a5f4e47fc74faf": {
     "model_module": "@jupyter-widgets/controls",
     "model_name": "ProgressStyleModel",
     "state": {
      "_model_module": "@jupyter-widgets/controls",
      "_model_module_version": "1.5.0",
      "_model_name": "ProgressStyleModel",
      "_view_count": null,
      "_view_module": "@jupyter-widgets/base",
      "_view_module_version": "1.2.0",
      "_view_name": "StyleView",
      "bar_color": null,
      "description_width": "initial"
     }
    },
    "5efa48163e2f4867857687d3e496a99a": {
     "model_module": "@jupyter-widgets/base",
     "model_name": "LayoutModel",
     "state": {
      "_model_module": "@jupyter-widgets/base",
      "_model_module_version": "1.2.0",
      "_model_name": "LayoutModel",
      "_view_count": null,
      "_view_module": "@jupyter-widgets/base",
      "_view_module_version": "1.2.0",
      "_view_name": "LayoutView",
      "align_content": null,
      "align_items": null,
      "align_self": null,
      "border": null,
      "bottom": null,
      "display": null,
      "flex": null,
      "flex_flow": null,
      "grid_area": null,
      "grid_auto_columns": null,
      "grid_auto_flow": null,
      "grid_auto_rows": null,
      "grid_column": null,
      "grid_gap": null,
      "grid_row": null,
      "grid_template_areas": null,
      "grid_template_columns": null,
      "grid_template_rows": null,
      "height": null,
      "justify_content": null,
      "justify_items": null,
      "left": null,
      "margin": null,
      "max_height": null,
      "max_width": null,
      "min_height": null,
      "min_width": null,
      "object_fit": null,
      "object_position": null,
      "order": null,
      "overflow": null,
      "overflow_x": null,
      "overflow_y": null,
      "padding": null,
      "right": null,
      "top": null,
      "visibility": null,
      "width": null
     }
    },
    "65cf2df19bc349149c3b5bfc18420854": {
     "model_module": "@jupyter-widgets/controls",
     "model_name": "DescriptionStyleModel",
     "state": {
      "_model_module": "@jupyter-widgets/controls",
      "_model_module_version": "1.5.0",
      "_model_name": "DescriptionStyleModel",
      "_view_count": null,
      "_view_module": "@jupyter-widgets/base",
      "_view_module_version": "1.2.0",
      "_view_name": "StyleView",
      "description_width": ""
     }
    },
    "899995c8d84b4ecabc4af8a1d6c5a63c": {
     "model_module": "@jupyter-widgets/controls",
     "model_name": "HTMLModel",
     "state": {
      "_dom_classes": [],
      "_model_module": "@jupyter-widgets/controls",
      "_model_module_version": "1.5.0",
      "_model_name": "HTMLModel",
      "_view_count": null,
      "_view_module": "@jupyter-widgets/controls",
      "_view_module_version": "1.5.0",
      "_view_name": "HTMLView",
      "description": "",
      "description_tooltip": null,
      "layout": "IPY_MODEL_8ff4e632581e411881dcbb823632d0db",
      "placeholder": "​",
      "style": "IPY_MODEL_fdc8c8b1f4d4499c845e0b84e26a221c",
      "value": " 291/291 [00:00&lt;00:00, 1.22kB/s]"
     }
    },
    "8ad411e8389e414ebbaf4e0867db0962": {
     "model_module": "@jupyter-widgets/controls",
     "model_name": "HTMLModel",
     "state": {
      "_dom_classes": [],
      "_model_module": "@jupyter-widgets/controls",
      "_model_module_version": "1.5.0",
      "_model_name": "HTMLModel",
      "_view_count": null,
      "_view_module": "@jupyter-widgets/controls",
      "_view_module_version": "1.5.0",
      "_view_name": "HTMLView",
      "description": "",
      "description_tooltip": null,
      "layout": "IPY_MODEL_8d0d472c395f457bb56f58dc525657b6",
      "placeholder": "​",
      "style": "IPY_MODEL_10f16d90485843c8ad131155a1dae2f3",
      "value": " 378M/378M [00:05&lt;00:00, 72.1MB/s]"
     }
    },
    "8d0d472c395f457bb56f58dc525657b6": {
     "model_module": "@jupyter-widgets/base",
     "model_name": "LayoutModel",
     "state": {
      "_model_module": "@jupyter-widgets/base",
      "_model_module_version": "1.2.0",
      "_model_name": "LayoutModel",
      "_view_count": null,
      "_view_module": "@jupyter-widgets/base",
      "_view_module_version": "1.2.0",
      "_view_name": "LayoutView",
      "align_content": null,
      "align_items": null,
      "align_self": null,
      "border": null,
      "bottom": null,
      "display": null,
      "flex": null,
      "flex_flow": null,
      "grid_area": null,
      "grid_auto_columns": null,
      "grid_auto_flow": null,
      "grid_auto_rows": null,
      "grid_column": null,
      "grid_gap": null,
      "grid_row": null,
      "grid_template_areas": null,
      "grid_template_columns": null,
      "grid_template_rows": null,
      "height": null,
      "justify_content": null,
      "justify_items": null,
      "left": null,
      "margin": null,
      "max_height": null,
      "max_width": null,
      "min_height": null,
      "min_width": null,
      "object_fit": null,
      "object_position": null,
      "order": null,
      "overflow": null,
      "overflow_x": null,
      "overflow_y": null,
      "padding": null,
      "right": null,
      "top": null,
      "visibility": null,
      "width": null
     }
    },
    "8ff4e632581e411881dcbb823632d0db": {
     "model_module": "@jupyter-widgets/base",
     "model_name": "LayoutModel",
     "state": {
      "_model_module": "@jupyter-widgets/base",
      "_model_module_version": "1.2.0",
      "_model_name": "LayoutModel",
      "_view_count": null,
      "_view_module": "@jupyter-widgets/base",
      "_view_module_version": "1.2.0",
      "_view_name": "LayoutView",
      "align_content": null,
      "align_items": null,
      "align_self": null,
      "border": null,
      "bottom": null,
      "display": null,
      "flex": null,
      "flex_flow": null,
      "grid_area": null,
      "grid_auto_columns": null,
      "grid_auto_flow": null,
      "grid_auto_rows": null,
      "grid_column": null,
      "grid_gap": null,
      "grid_row": null,
      "grid_template_areas": null,
      "grid_template_columns": null,
      "grid_template_rows": null,
      "height": null,
      "justify_content": null,
      "justify_items": null,
      "left": null,
      "margin": null,
      "max_height": null,
      "max_width": null,
      "min_height": null,
      "min_width": null,
      "object_fit": null,
      "object_position": null,
      "order": null,
      "overflow": null,
      "overflow_x": null,
      "overflow_y": null,
      "padding": null,
      "right": null,
      "top": null,
      "visibility": null,
      "width": null
     }
    },
    "93de18c013444b5cb439fad7738414a0": {
     "model_module": "@jupyter-widgets/controls",
     "model_name": "HBoxModel",
     "state": {
      "_dom_classes": [],
      "_model_module": "@jupyter-widgets/controls",
      "_model_module_version": "1.5.0",
      "_model_name": "HBoxModel",
      "_view_count": null,
      "_view_module": "@jupyter-widgets/controls",
      "_view_module_version": "1.5.0",
      "_view_name": "HBoxView",
      "box_style": "",
      "children": [
       "IPY_MODEL_c6fd28077060421e80315aff91b59cad",
       "IPY_MODEL_2840402337284d738790ceb997debe46"
      ],
      "layout": "IPY_MODEL_983be32aa47b4842a6a046b2066f206e"
     }
    },
    "94c18df348e94826ac5d9d0121c756d3": {
     "model_module": "@jupyter-widgets/controls",
     "model_name": "ProgressStyleModel",
     "state": {
      "_model_module": "@jupyter-widgets/controls",
      "_model_module_version": "1.5.0",
      "_model_name": "ProgressStyleModel",
      "_view_count": null,
      "_view_module": "@jupyter-widgets/base",
      "_view_module_version": "1.2.0",
      "_view_name": "StyleView",
      "bar_color": null,
      "description_width": "initial"
     }
    },
    "9530414e29bd431e99c778dfeb6b9de7": {
     "model_module": "@jupyter-widgets/base",
     "model_name": "LayoutModel",
     "state": {
      "_model_module": "@jupyter-widgets/base",
      "_model_module_version": "1.2.0",
      "_model_name": "LayoutModel",
      "_view_count": null,
      "_view_module": "@jupyter-widgets/base",
      "_view_module_version": "1.2.0",
      "_view_name": "LayoutView",
      "align_content": null,
      "align_items": null,
      "align_self": null,
      "border": null,
      "bottom": null,
      "display": null,
      "flex": null,
      "flex_flow": null,
      "grid_area": null,
      "grid_auto_columns": null,
      "grid_auto_flow": null,
      "grid_auto_rows": null,
      "grid_column": null,
      "grid_gap": null,
      "grid_row": null,
      "grid_template_areas": null,
      "grid_template_columns": null,
      "grid_template_rows": null,
      "height": null,
      "justify_content": null,
      "justify_items": null,
      "left": null,
      "margin": null,
      "max_height": null,
      "max_width": null,
      "min_height": null,
      "min_width": null,
      "object_fit": null,
      "object_position": null,
      "order": null,
      "overflow": null,
      "overflow_x": null,
      "overflow_y": null,
      "padding": null,
      "right": null,
      "top": null,
      "visibility": null,
      "width": null
     }
    },
    "971e9df6ea74412cb8ff72629790430e": {
     "model_module": "@jupyter-widgets/controls",
     "model_name": "HTMLModel",
     "state": {
      "_dom_classes": [],
      "_model_module": "@jupyter-widgets/controls",
      "_model_module_version": "1.5.0",
      "_model_name": "HTMLModel",
      "_view_count": null,
      "_view_module": "@jupyter-widgets/controls",
      "_view_module_version": "1.5.0",
      "_view_name": "HTMLView",
      "description": "",
      "description_tooltip": null,
      "layout": "IPY_MODEL_f11eaf39f52442c5b60610568bb5addd",
      "placeholder": "​",
      "style": "IPY_MODEL_65cf2df19bc349149c3b5bfc18420854",
      "value": " 85.0/85.0 [00:00&lt;00:00, 153B/s]"
     }
    },
    "983be32aa47b4842a6a046b2066f206e": {
     "model_module": "@jupyter-widgets/base",
     "model_name": "LayoutModel",
     "state": {
      "_model_module": "@jupyter-widgets/base",
      "_model_module_version": "1.2.0",
      "_model_name": "LayoutModel",
      "_view_count": null,
      "_view_module": "@jupyter-widgets/base",
      "_view_module_version": "1.2.0",
      "_view_name": "LayoutView",
      "align_content": null,
      "align_items": null,
      "align_self": null,
      "border": null,
      "bottom": null,
      "display": null,
      "flex": null,
      "flex_flow": null,
      "grid_area": null,
      "grid_auto_columns": null,
      "grid_auto_flow": null,
      "grid_auto_rows": null,
      "grid_column": null,
      "grid_gap": null,
      "grid_row": null,
      "grid_template_areas": null,
      "grid_template_columns": null,
      "grid_template_rows": null,
      "height": null,
      "justify_content": null,
      "justify_items": null,
      "left": null,
      "margin": null,
      "max_height": null,
      "max_width": null,
      "min_height": null,
      "min_width": null,
      "object_fit": null,
      "object_position": null,
      "order": null,
      "overflow": null,
      "overflow_x": null,
      "overflow_y": null,
      "padding": null,
      "right": null,
      "top": null,
      "visibility": null,
      "width": null
     }
    },
    "a10ded5ad346414289d43b5ec464b582": {
     "model_module": "@jupyter-widgets/controls",
     "model_name": "FloatProgressModel",
     "state": {
      "_dom_classes": [],
      "_model_module": "@jupyter-widgets/controls",
      "_model_module_version": "1.5.0",
      "_model_name": "FloatProgressModel",
      "_view_count": null,
      "_view_module": "@jupyter-widgets/controls",
      "_view_module_version": "1.5.0",
      "_view_name": "ProgressView",
      "bar_style": "success",
      "description": "Downloading: 100%",
      "description_tooltip": null,
      "layout": "IPY_MODEL_c0bff73c99e542c18873d9ff3f67e36c",
      "max": 377667514,
      "min": 0,
      "orientation": "horizontal",
      "style": "IPY_MODEL_5b1269c34dd64d0c87a5f4e47fc74faf",
      "value": 377667514
     }
    },
    "ae81a356ed094462afa2f6374f832e7c": {
     "model_module": "@jupyter-widgets/base",
     "model_name": "LayoutModel",
     "state": {
      "_model_module": "@jupyter-widgets/base",
      "_model_module_version": "1.2.0",
      "_model_name": "LayoutModel",
      "_view_count": null,
      "_view_module": "@jupyter-widgets/base",
      "_view_module_version": "1.2.0",
      "_view_name": "LayoutView",
      "align_content": null,
      "align_items": null,
      "align_self": null,
      "border": null,
      "bottom": null,
      "display": null,
      "flex": null,
      "flex_flow": null,
      "grid_area": null,
      "grid_auto_columns": null,
      "grid_auto_flow": null,
      "grid_auto_rows": null,
      "grid_column": null,
      "grid_gap": null,
      "grid_row": null,
      "grid_template_areas": null,
      "grid_template_columns": null,
      "grid_template_rows": null,
      "height": null,
      "justify_content": null,
      "justify_items": null,
      "left": null,
      "margin": null,
      "max_height": null,
      "max_width": null,
      "min_height": null,
      "min_width": null,
      "object_fit": null,
      "object_position": null,
      "order": null,
      "overflow": null,
      "overflow_x": null,
      "overflow_y": null,
      "padding": null,
      "right": null,
      "top": null,
      "visibility": null,
      "width": null
     }
    },
    "af693529300c47edb85c5821aa36be17": {
     "model_module": "@jupyter-widgets/controls",
     "model_name": "ProgressStyleModel",
     "state": {
      "_model_module": "@jupyter-widgets/controls",
      "_model_module_version": "1.5.0",
      "_model_name": "ProgressStyleModel",
      "_view_count": null,
      "_view_module": "@jupyter-widgets/base",
      "_view_module_version": "1.2.0",
      "_view_name": "StyleView",
      "bar_color": null,
      "description_width": "initial"
     }
    },
    "b8f1e6b65fb6457689a38380ef8e3971": {
     "model_module": "@jupyter-widgets/controls",
     "model_name": "FloatProgressModel",
     "state": {
      "_dom_classes": [],
      "_model_module": "@jupyter-widgets/controls",
      "_model_module_version": "1.5.0",
      "_model_name": "FloatProgressModel",
      "_view_count": null,
      "_view_module": "@jupyter-widgets/controls",
      "_view_module_version": "1.5.0",
      "_view_name": "ProgressView",
      "bar_style": "success",
      "description": "Downloading: 100%",
      "description_tooltip": null,
      "layout": "IPY_MODEL_3cc122fc298548539c56d31e8a36efc7",
      "max": 291,
      "min": 0,
      "orientation": "horizontal",
      "style": "IPY_MODEL_171de67bb3df47a6bf53e426b99e83e6",
      "value": 291
     }
    },
    "bba1dd1bf3bb4b51b9bf64d97d6b6e49": {
     "model_module": "@jupyter-widgets/base",
     "model_name": "LayoutModel",
     "state": {
      "_model_module": "@jupyter-widgets/base",
      "_model_module_version": "1.2.0",
      "_model_name": "LayoutModel",
      "_view_count": null,
      "_view_module": "@jupyter-widgets/base",
      "_view_module_version": "1.2.0",
      "_view_name": "LayoutView",
      "align_content": null,
      "align_items": null,
      "align_self": null,
      "border": null,
      "bottom": null,
      "display": null,
      "flex": null,
      "flex_flow": null,
      "grid_area": null,
      "grid_auto_columns": null,
      "grid_auto_flow": null,
      "grid_auto_rows": null,
      "grid_column": null,
      "grid_gap": null,
      "grid_row": null,
      "grid_template_areas": null,
      "grid_template_columns": null,
      "grid_template_rows": null,
      "height": null,
      "justify_content": null,
      "justify_items": null,
      "left": null,
      "margin": null,
      "max_height": null,
      "max_width": null,
      "min_height": null,
      "min_width": null,
      "object_fit": null,
      "object_position": null,
      "order": null,
      "overflow": null,
      "overflow_x": null,
      "overflow_y": null,
      "padding": null,
      "right": null,
      "top": null,
      "visibility": null,
      "width": null
     }
    },
    "c0bff73c99e542c18873d9ff3f67e36c": {
     "model_module": "@jupyter-widgets/base",
     "model_name": "LayoutModel",
     "state": {
      "_model_module": "@jupyter-widgets/base",
      "_model_module_version": "1.2.0",
      "_model_name": "LayoutModel",
      "_view_count": null,
      "_view_module": "@jupyter-widgets/base",
      "_view_module_version": "1.2.0",
      "_view_name": "LayoutView",
      "align_content": null,
      "align_items": null,
      "align_self": null,
      "border": null,
      "bottom": null,
      "display": null,
      "flex": null,
      "flex_flow": null,
      "grid_area": null,
      "grid_auto_columns": null,
      "grid_auto_flow": null,
      "grid_auto_rows": null,
      "grid_column": null,
      "grid_gap": null,
      "grid_row": null,
      "grid_template_areas": null,
      "grid_template_columns": null,
      "grid_template_rows": null,
      "height": null,
      "justify_content": null,
      "justify_items": null,
      "left": null,
      "margin": null,
      "max_height": null,
      "max_width": null,
      "min_height": null,
      "min_width": null,
      "object_fit": null,
      "object_position": null,
      "order": null,
      "overflow": null,
      "overflow_x": null,
      "overflow_y": null,
      "padding": null,
      "right": null,
      "top": null,
      "visibility": null,
      "width": null
     }
    },
    "c6fd28077060421e80315aff91b59cad": {
     "model_module": "@jupyter-widgets/controls",
     "model_name": "FloatProgressModel",
     "state": {
      "_dom_classes": [],
      "_model_module": "@jupyter-widgets/controls",
      "_model_module_version": "1.5.0",
      "_model_name": "FloatProgressModel",
      "_view_count": null,
      "_view_module": "@jupyter-widgets/controls",
      "_view_module_version": "1.5.0",
      "_view_name": "ProgressView",
      "bar_style": "success",
      "description": "Downloading: 100%",
      "description_tooltip": null,
      "layout": "IPY_MODEL_5efa48163e2f4867857687d3e496a99a",
      "max": 843,
      "min": 0,
      "orientation": "horizontal",
      "style": "IPY_MODEL_94c18df348e94826ac5d9d0121c756d3",
      "value": 843
     }
    },
    "ca4c06e0497249ef99c70eea9df06237": {
     "model_module": "@jupyter-widgets/controls",
     "model_name": "FloatProgressModel",
     "state": {
      "_dom_classes": [],
      "_model_module": "@jupyter-widgets/controls",
      "_model_module_version": "1.5.0",
      "_model_name": "FloatProgressModel",
      "_view_count": null,
      "_view_module": "@jupyter-widgets/controls",
      "_view_module_version": "1.5.0",
      "_view_name": "ProgressView",
      "bar_style": "success",
      "description": "Downloading: 100%",
      "description_tooltip": null,
      "layout": "IPY_MODEL_d0f6ed5579b8463fac4fbeae6d425f26",
      "max": 163,
      "min": 0,
      "orientation": "horizontal",
      "style": "IPY_MODEL_dab72f33e3b34ed6991d499c8bdb1a64",
      "value": 163
     }
    },
    "d0f6ed5579b8463fac4fbeae6d425f26": {
     "model_module": "@jupyter-widgets/base",
     "model_name": "LayoutModel",
     "state": {
      "_model_module": "@jupyter-widgets/base",
      "_model_module_version": "1.2.0",
      "_model_name": "LayoutModel",
      "_view_count": null,
      "_view_module": "@jupyter-widgets/base",
      "_view_module_version": "1.2.0",
      "_view_name": "LayoutView",
      "align_content": null,
      "align_items": null,
      "align_self": null,
      "border": null,
      "bottom": null,
      "display": null,
      "flex": null,
      "flex_flow": null,
      "grid_area": null,
      "grid_auto_columns": null,
      "grid_auto_flow": null,
      "grid_auto_rows": null,
      "grid_column": null,
      "grid_gap": null,
      "grid_row": null,
      "grid_template_areas": null,
      "grid_template_columns": null,
      "grid_template_rows": null,
      "height": null,
      "justify_content": null,
      "justify_items": null,
      "left": null,
      "margin": null,
      "max_height": null,
      "max_width": null,
      "min_height": null,
      "min_width": null,
      "object_fit": null,
      "object_position": null,
      "order": null,
      "overflow": null,
      "overflow_x": null,
      "overflow_y": null,
      "padding": null,
      "right": null,
      "top": null,
      "visibility": null,
      "width": null
     }
    },
    "d5849567eb2f444f92d346010baab376": {
     "model_module": "@jupyter-widgets/controls",
     "model_name": "HBoxModel",
     "state": {
      "_dom_classes": [],
      "_model_module": "@jupyter-widgets/controls",
      "_model_module_version": "1.5.0",
      "_model_name": "HBoxModel",
      "_view_count": null,
      "_view_module": "@jupyter-widgets/controls",
      "_view_module_version": "1.5.0",
      "_view_name": "HBoxView",
      "box_style": "",
      "children": [
       "IPY_MODEL_b8f1e6b65fb6457689a38380ef8e3971",
       "IPY_MODEL_899995c8d84b4ecabc4af8a1d6c5a63c"
      ],
      "layout": "IPY_MODEL_1b08b532def440ee9ed382cda8b3d6a9"
     }
    },
    "dab72f33e3b34ed6991d499c8bdb1a64": {
     "model_module": "@jupyter-widgets/controls",
     "model_name": "ProgressStyleModel",
     "state": {
      "_model_module": "@jupyter-widgets/controls",
      "_model_module_version": "1.5.0",
      "_model_name": "ProgressStyleModel",
      "_view_count": null,
      "_view_module": "@jupyter-widgets/base",
      "_view_module_version": "1.2.0",
      "_view_name": "StyleView",
      "bar_color": null,
      "description_width": "initial"
     }
    },
    "e0f96d53958a44a799b23d28a086792d": {
     "model_module": "@jupyter-widgets/base",
     "model_name": "LayoutModel",
     "state": {
      "_model_module": "@jupyter-widgets/base",
      "_model_module_version": "1.2.0",
      "_model_name": "LayoutModel",
      "_view_count": null,
      "_view_module": "@jupyter-widgets/base",
      "_view_module_version": "1.2.0",
      "_view_name": "LayoutView",
      "align_content": null,
      "align_items": null,
      "align_self": null,
      "border": null,
      "bottom": null,
      "display": null,
      "flex": null,
      "flex_flow": null,
      "grid_area": null,
      "grid_auto_columns": null,
      "grid_auto_flow": null,
      "grid_auto_rows": null,
      "grid_column": null,
      "grid_gap": null,
      "grid_row": null,
      "grid_template_areas": null,
      "grid_template_columns": null,
      "grid_template_rows": null,
      "height": null,
      "justify_content": null,
      "justify_items": null,
      "left": null,
      "margin": null,
      "max_height": null,
      "max_width": null,
      "min_height": null,
      "min_width": null,
      "object_fit": null,
      "object_position": null,
      "order": null,
      "overflow": null,
      "overflow_x": null,
      "overflow_y": null,
      "padding": null,
      "right": null,
      "top": null,
      "visibility": null,
      "width": null
     }
    },
    "f11eaf39f52442c5b60610568bb5addd": {
     "model_module": "@jupyter-widgets/base",
     "model_name": "LayoutModel",
     "state": {
      "_model_module": "@jupyter-widgets/base",
      "_model_module_version": "1.2.0",
      "_model_name": "LayoutModel",
      "_view_count": null,
      "_view_module": "@jupyter-widgets/base",
      "_view_module_version": "1.2.0",
      "_view_name": "LayoutView",
      "align_content": null,
      "align_items": null,
      "align_self": null,
      "border": null,
      "bottom": null,
      "display": null,
      "flex": null,
      "flex_flow": null,
      "grid_area": null,
      "grid_auto_columns": null,
      "grid_auto_flow": null,
      "grid_auto_rows": null,
      "grid_column": null,
      "grid_gap": null,
      "grid_row": null,
      "grid_template_areas": null,
      "grid_template_columns": null,
      "grid_template_rows": null,
      "height": null,
      "justify_content": null,
      "justify_items": null,
      "left": null,
      "margin": null,
      "max_height": null,
      "max_width": null,
      "min_height": null,
      "min_width": null,
      "object_fit": null,
      "object_position": null,
      "order": null,
      "overflow": null,
      "overflow_x": null,
      "overflow_y": null,
      "padding": null,
      "right": null,
      "top": null,
      "visibility": null,
      "width": null
     }
    },
    "fdc8c8b1f4d4499c845e0b84e26a221c": {
     "model_module": "@jupyter-widgets/controls",
     "model_name": "DescriptionStyleModel",
     "state": {
      "_model_module": "@jupyter-widgets/controls",
      "_model_module_version": "1.5.0",
      "_model_name": "DescriptionStyleModel",
      "_view_count": null,
      "_view_module": "@jupyter-widgets/base",
      "_view_module_version": "1.2.0",
      "_view_name": "StyleView",
      "description_width": ""
     }
    }
   }
  }
 },
 "nbformat": 4,
 "nbformat_minor": 1
}
